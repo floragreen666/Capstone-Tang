{
  "nbformat": 4,
  "nbformat_minor": 0,
  "metadata": {
    "colab": {
      "provenance": [],
      "collapsed_sections": [
        "PbvtUGNGAee4",
        "kkeAFMUIVPkh"
      ],
      "machine_shape": "hm",
      "gpuType": "T4"
    },
    "kernelspec": {
      "name": "python3",
      "display_name": "Python 3"
    },
    "language_info": {
      "name": "python"
    },
    "accelerator": "GPU"
  },
  "cells": [
    {
      "cell_type": "markdown",
      "source": [
        "# HarperValley"
      ],
      "metadata": {
        "id": "PbvtUGNGAee4"
      }
    },
    {
      "cell_type": "code",
      "source": [
        "!pip install pydub"
      ],
      "metadata": {
        "colab": {
          "base_uri": "https://localhost:8080/"
        },
        "id": "Yt05MY6cC4Qy",
        "outputId": "f7026db4-1b68-4df4-ff0c-afc58b47f5d0"
      },
      "execution_count": null,
      "outputs": [
        {
          "output_type": "stream",
          "name": "stdout",
          "text": [
            "Collecting pydub\n",
            "  Downloading pydub-0.25.1-py2.py3-none-any.whl.metadata (1.4 kB)\n",
            "Downloading pydub-0.25.1-py2.py3-none-any.whl (32 kB)\n",
            "Installing collected packages: pydub\n",
            "Successfully installed pydub-0.25.1\n"
          ]
        }
      ]
    },
    {
      "cell_type": "code",
      "source": [
        "from pydub import AudioSegment\n",
        "import json\n",
        "import os"
      ],
      "metadata": {
        "id": "kDV8Hld4ApqY"
      },
      "execution_count": null,
      "outputs": []
    },
    {
      "cell_type": "code",
      "source": [
        "# Define paths\n",
        "transcript_file = '/content/Database/data/transcript/004860b1ab2e4c88.json'\n",
        "agent_audio_file = '/content/Database/data/audio/agent/004860b1ab2e4c88.wav'\n",
        "caller_audio_file = '/content/Database/data/audio/caller/004860b1ab2e4c88.wav'\n",
        "output_dir = '/content/drive/MyDrive/Dataset/004860b1ab2e4c88'\n",
        "# Create output directory if it doesn't exist\n",
        "os.makedirs(output_dir, exist_ok=True)\n",
        "\n",
        "# Load transcript JSON\n",
        "with open(transcript_file, 'r') as f:\n",
        "    transcript_data = json.load(f)\n",
        "\n",
        "# Load audio files\n",
        "agent_audio = AudioSegment.from_wav(agent_audio_file)\n",
        "caller_audio = AudioSegment.from_wav(caller_audio_file)\n",
        "\n",
        "# Extract and save segments\n",
        "for segment in transcript_data:\n",
        "    if segment['channel_index'] == 1:\n",
        "        audio = caller_audio\n",
        "    else:\n",
        "        audio = agent_audio\n",
        "\n",
        "    start_time = segment['start_ms']  # Start time in milliseconds\n",
        "    duration = segment['duration_ms']  # Duration in milliseconds\n",
        "    end_time = start_time + duration  # Calculate end time\n",
        "\n",
        "    # Extract segment\n",
        "    audio_segment = audio[start_time:end_time]\n",
        "\n",
        "    # Generate filename based on the index\n",
        "    filename = f\"segment_{segment['index']}.wav\"\n",
        "    output_path = os.path.join(output_dir, filename)\n",
        "\n",
        "    # Save the extracted audio segment\n",
        "    audio_segment.export(output_path, format='wav')\n",
        "    print(f'Saved: {output_path}')\n",
        "\n",
        "print('Audio segments extracted and saved.')"
      ],
      "metadata": {
        "colab": {
          "base_uri": "https://localhost:8080/"
        },
        "id": "ppkv6hAdAlh3",
        "outputId": "8dc6d71b-2373-40ce-e136-9136377bbb31"
      },
      "execution_count": null,
      "outputs": [
        {
          "output_type": "stream",
          "name": "stdout",
          "text": [
            "Saved: /content/segment_1.wav\n",
            "Saved: /content/segment_2.wav\n",
            "Saved: /content/segment_3.wav\n",
            "Saved: /content/segment_4.wav\n",
            "Saved: /content/segment_5.wav\n",
            "Saved: /content/segment_6.wav\n",
            "Saved: /content/segment_7.wav\n",
            "Saved: /content/segment_8.wav\n",
            "Saved: /content/segment_9.wav\n",
            "Saved: /content/segment_10.wav\n",
            "Saved: /content/segment_11.wav\n",
            "Saved: /content/segment_12.wav\n",
            "Saved: /content/segment_13.wav\n",
            "Saved: /content/segment_14.wav\n",
            "Saved: /content/segment_15.wav\n",
            "Saved: /content/segment_16.wav\n",
            "Saved: /content/segment_17.wav\n",
            "Saved: /content/segment_18.wav\n",
            "Audio segments extracted and saved.\n"
          ]
        }
      ]
    },
    {
      "cell_type": "markdown",
      "source": [
        "## Explore Metadata Files"
      ],
      "metadata": {
        "id": "kkeAFMUIVPkh"
      }
    },
    {
      "cell_type": "markdown",
      "source": [
        "To see if 'survey_response' field in metadata files is worth exploring:"
      ],
      "metadata": {
        "id": "WocnPM0eQLLr"
      }
    },
    {
      "cell_type": "code",
      "source": [
        "import os\n",
        "import json\n",
        "import matplotlib.pyplot as plt\n",
        "from collections import Counter\n",
        "\n",
        "# Path to metadata folder\n",
        "metadata_folder = '/content/Database/data/metadata'"
      ],
      "metadata": {
        "id": "B7ilsBZJUrxd"
      },
      "execution_count": null,
      "outputs": []
    },
    {
      "cell_type": "code",
      "source": [
        "# Initialize counters for survey responses\n",
        "survey_counters = {\n",
        "    'caller_ease_of_connection': Counter(),\n",
        "    'caller_partner_rating': Counter(),\n",
        "    'agent_ease_of_connection': Counter(),\n",
        "    'agent_partner_rating': Counter()\n",
        "}\n",
        "\n",
        "def process_survey(survey, ease_counter, partner_counter):\n",
        "    '''Process a single survey response.'''\n",
        "    if survey and survey.get('data'):\n",
        "        ease_counter[survey['data'].get('ease_of_connection', 'N/A')] += 1\n",
        "        partner_counter[survey['data'].get('partner_rating', 'N/A')] += 1\n",
        "    else:\n",
        "        # If survey_response is null or data is missing, count as 'N/A'\n",
        "        ease_counter['N/A'] += 1\n",
        "        partner_counter['N/A'] += 1\n",
        "\n",
        "# Process all metadata files\n",
        "for filename in os.listdir(metadata_folder):\n",
        "    if filename.endswith('.json'):\n",
        "        file_path = os.path.join(metadata_folder, filename)\n",
        "        with open(file_path, 'r') as f:\n",
        "            data = json.load(f)\n",
        "\n",
        "        # Process caller and agent survey responses\n",
        "        process_survey(data.get('caller', {}).get('survey_response'),\n",
        "                       survey_counters['caller_ease_of_connection'],\n",
        "                       survey_counters['caller_partner_rating'])\n",
        "        process_survey(data.get('agent', {}).get('survey_response'),\n",
        "                       survey_counters['agent_ease_of_connection'],\n",
        "                       survey_counters['agent_partner_rating'])\n",
        "\n",
        "def plot_bar(data, title, xlabel, ylabel):\n",
        "    '''Plot a bar chart for survey responses.'''\n",
        "    keys = list(range(11)) + ['N/A']\n",
        "    x = [str(k) for k in keys]\n",
        "    y = [data.get(str(k), 0) for k in keys]\n",
        "\n",
        "    plt.bar(x, y)\n",
        "    plt.title(title)\n",
        "    plt.xlabel(xlabel)\n",
        "    plt.ylabel(ylabel)\n",
        "    plt.show()\n",
        "\n",
        "# Plot the bar charts\n",
        "plt.figure(figsize=(10, 6))\n",
        "plot_bar(survey_counters['caller_ease_of_connection'],\n",
        "         'Caller: Ease of Connection', 'Rating', 'Frequency')\n",
        "plot_bar(survey_counters['caller_partner_rating'],\n",
        "         'Caller: Partner Rating', 'Rating', 'Frequency')\n",
        "plot_bar(survey_counters['agent_ease_of_connection'],\n",
        "         'Agent: Ease of Connection', 'Rating', 'Frequency')\n",
        "plot_bar(survey_counters['agent_partner_rating'],\n",
        "         'Agent: Partner Rating', 'Rating', 'Frequency')"
      ],
      "metadata": {
        "colab": {
          "base_uri": "https://localhost:8080/"
        },
        "id": "6Q49weY4NilF",
        "outputId": "3a3d3c68-53ee-4091-882f-ca8bcfe7b1d8"
      },
      "execution_count": null,
      "outputs": [
        {
          "output_type": "display_data",
          "data": {
            "text/plain": [
              "<Figure size 1000x600 with 1 Axes>"
            ],
            "image/png": "[encoded data removed]"
          },
          "metadata": {}
        },
        {
          "output_type": "display_data",
          "data": {
            "text/plain": [
              "<Figure size 640x480 with 1 Axes>"
            ],
            "image/png": "[encoded data removed]"
          },
          "metadata": {}
        },
        {
          "output_type": "display_data",
          "data": {
            "text/plain": [
              "<Figure size 640x480 with 1 Axes>"
            ],
            "image/png": "[encoded data removed]"
          },
          "metadata": {}
        },
        {
          "output_type": "display_data",
          "data": {
            "text/plain": [
              "<Figure size 640x480 with 1 Axes>"
            ],
            "image/png": "[encoded data removed]"
          },
          "metadata": {}
        }
      ]
    },
    {
      "cell_type": "markdown",
      "source": [
        "Survey response is generally full points or nothing. Not worth exploring.\n",
        "\n",
        "To see if the field 'labels' in metadata files is worth exploring:"
      ],
      "metadata": {
        "id": "_mXLuctfQV1Z"
      }
    },
    {
      "cell_type": "code",
      "source": [
        "# Initialize counters for labels\n",
        "label_counters = {\n",
        "    'lhvb_script': Counter(),\n",
        "    'caller_mos': Counter(),\n",
        "    'agent_mos': Counter()\n",
        "}\n",
        "\n",
        "def process_labels(labels, counters):\n",
        "    '''Process the labels section of the metadata file.'''\n",
        "    for key in counters.keys():\n",
        "        value = labels.get(key, 'N/A')\n",
        "        counters[key][value] += 1\n",
        "\n",
        "# Process all metadata files\n",
        "for filename in os.listdir(metadata_folder):\n",
        "    if filename.endswith('.json'):\n",
        "        file_path = os.path.join(metadata_folder, filename)\n",
        "        with open(file_path, 'r') as f:\n",
        "            data = json.load(f)\n",
        "\n",
        "        # Process the labels section\n",
        "        labels = data.get('labels', {})\n",
        "        process_labels(labels, label_counters)\n",
        "\n",
        "def plot_label_distribution(data, title, xlabel, ylabel):\n",
        "    '''Plot a bar chart for label distributions.'''\n",
        "    keys = sorted(data.keys(), key=lambda x: (str(x) != 'N/A', x))  # Sort with 'N/A' last\n",
        "    x = [str(k) for k in keys]\n",
        "    y = [data[k] for k in keys]\n",
        "\n",
        "    plt.bar(x, y)\n",
        "    plt.title(title)\n",
        "    plt.xlabel(xlabel)\n",
        "    plt.ylabel(ylabel)\n",
        "    plt.show()\n",
        "\n",
        "# Plot the bar charts\n",
        "plt.figure(figsize=(10, 6))\n",
        "plot_label_distribution(label_counters['lhvb_script'],\n",
        "                        'Lhvb Script Ratings', 'Rating', 'Frequency')\n",
        "plot_label_distribution(label_counters['caller_mos'],\n",
        "                        'Caller MOS Ratings', 'Rating', 'Frequency')\n",
        "plot_label_distribution(label_counters['agent_mos'],\n",
        "                        'Agent MOS Ratings', 'Rating', 'Frequency')"
      ],
      "metadata": {
        "colab": {
          "base_uri": "https://localhost:8080/"
        },
        "id": "KaH1N0R6S-gK",
        "outputId": "5a0c3de9-27f7-4451-c256-c9f08df97014"
      },
      "execution_count": null,
      "outputs": [
        {
          "output_type": "display_data",
          "data": {
            "text/plain": [
              "<Figure size 1000x600 with 1 Axes>"
            ],
            "image/png": "[encoded data removed]"
          },
          "metadata": {}
        },
        {
          "output_type": "display_data",
          "data": {
            "text/plain": [
              "<Figure size 640x480 with 1 Axes>"
            ],
            "image/png": "[encoded data removed]"
          },
          "metadata": {}
        },
        {
          "output_type": "display_data",
          "data": {
            "text/plain": [
              "<Figure size 640x480 with 1 Axes>"
            ],
            "image/png": "[encoded data removed]"
          },
          "metadata": {}
        }
      ]
    },
    {
      "cell_type": "markdown",
      "source": [
        "All three fields have strong bias. Not worth exploring."
      ],
      "metadata": {
        "id": "NCt414-eUi13"
      }
    },
    {
      "cell_type": "code",
      "source": [
        "# Access database\n",
        "!git clone https://github.com/cricketclub/gridspace-stanford-harper-valley.git Database"
      ],
      "metadata": {
        "colab": {
          "base_uri": "https://localhost:8080/"
        },
        "id": "xsvxchTJ_pxZ",
        "outputId": "b34cab96-0f2c-409f-d332-2b744b8bee3e"
      },
      "execution_count": null,
      "outputs": [
        {
          "output_type": "stream",
          "name": "stdout",
          "text": [
            "Cloning into 'Database'...\n",
            "remote: Enumerating objects: 8983, done.\u001b[K\n",
            "remote: Counting objects: 100% (3188/3188), done.\u001b[K\n",
            "remote: Compressing objects: 100% (1599/1599), done.\u001b[K\n",
            "remote: Total 8983 (delta 3035), reused 1705 (delta 1586), pack-reused 5795 (from 1)\u001b[K\n",
            "Receiving objects: 100% (8983/8983), 657.20 MiB | 15.31 MiB/s, done.\n",
            "Resolving deltas: 100% (7025/7025), done.\n",
            "Updating files: 100% (5886/5886), done.\n"
          ]
        }
      ]
    },
    {
      "cell_type": "markdown",
      "source": [
        "# MOSEI"
      ],
      "metadata": {
        "id": "Ztv8M854ldlK"
      }
    },
    {
      "cell_type": "code",
      "source": [
        "# clone data loader\n",
        "!git clone https://github.com/CMU-MultiComp-Lab/CMU-MultimodalSDK.git"
      ],
      "metadata": {
        "colab": {
          "base_uri": "https://localhost:8080/"
        },
        "id": "X9OOIAvglgiv",
        "outputId": "d7185e51-4a81-45d6-f9ba-d059a733a486"
      },
      "execution_count": null,
      "outputs": [
        {
          "output_type": "stream",
          "name": "stdout",
          "text": [
            "Cloning into 'CMU-MultimodalSDK'...\n",
            "remote: Enumerating objects: 100, done.\u001b[K\n",
            "remote: Counting objects: 100% (100/100), done.\u001b[K\n",
            "remote: Compressing objects: 100% (82/82), done.\u001b[K\n",
            "remote: Total 100 (delta 13), reused 94 (delta 11), pack-reused 0 (from 0)\u001b[K\n",
            "Receiving objects: 100% (100/100), 294.05 KiB | 1.21 MiB/s, done.\n",
            "Resolving deltas: 100% (13/13), done.\n"
          ]
        }
      ]
    },
    {
      "cell_type": "code",
      "source": [
        "# install requirements\n",
        "%cd /content/CMU-MultimodalSDK\n",
        "!pip install ."
      ],
      "metadata": {
        "colab": {
          "base_uri": "https://localhost:8080/"
        },
        "id": "6Br5wre1ogQU",
        "outputId": "e5f28194-0da0-4dae-b146-205a0a16d441"
      },
      "execution_count": null,
      "outputs": [
        {
          "output_type": "stream",
          "name": "stdout",
          "text": [
            "/content/CMU-MultimodalSDK\n",
            "Processing /content/CMU-MultimodalSDK\n",
            "  Preparing metadata (setup.py) ... \u001b[?25l\u001b[?25hdone\n",
            "Requirement already satisfied: numpy>=1.26.2 in /usr/local/lib/python3.10/dist-packages (from mmsdk==1.1.0) (1.26.4)\n",
            "Requirement already satisfied: h5py>=3.10.0 in /usr/local/lib/python3.10/dist-packages (from mmsdk==1.1.0) (3.12.1)\n",
            "Requirement already satisfied: validators>=0.22.0 in /usr/local/lib/python3.10/dist-packages (from mmsdk==1.1.0) (0.34.0)\n",
            "Requirement already satisfied: tqdm>=4.66.1 in /usr/local/lib/python3.10/dist-packages (from mmsdk==1.1.0) (4.66.6)\n",
            "Requirement already satisfied: colorama>=0.4.6 in /usr/local/lib/python3.10/dist-packages (from mmsdk==1.1.0) (0.4.6)\n",
            "Building wheels for collected packages: mmsdk\n",
            "  Building wheel for mmsdk (setup.py) ... \u001b[?25l\u001b[?25hdone\n",
            "  Created wheel for mmsdk: filename=mmsdk-1.1.0-py3-none-any.whl size=79210 sha256=0a4e736f9e82b16cb2972471ca6350eb44340fe00452d6e4b5985812328f34ff\n",
            "  Stored in directory: /root/.cache/pip/wheels/c6/12/b6/5abbb16746cd7a88030aee0301975f51dea74e77699c67ed0b\n",
            "Successfully built mmsdk\n",
            "Installing collected packages: mmsdk\n",
            "  Attempting uninstall: mmsdk\n",
            "    Found existing installation: mmsdk 1.1.0\n",
            "    Uninstalling mmsdk-1.1.0:\n",
            "      Successfully uninstalled mmsdk-1.1.0\n",
            "Successfully installed mmsdk-1.1.0\n"
          ]
        }
      ]
    },
    {
      "cell_type": "code",
      "source": [
        "from mmsdk import mmdatasdk"
      ],
      "metadata": {
        "id": "z5CJrGUwqJUC"
      },
      "execution_count": null,
      "outputs": []
    },
    {
      "cell_type": "code",
      "source": [
        "# fetch dataset high level features\n",
        "cmumosei_highlevel=mmdatasdk.mmdataset(mmdatasdk.cmu_mosei.highlevel,'cmumosei/')"
      ],
      "metadata": {
        "colab": {
          "base_uri": "https://localhost:8080/"
        },
        "id": "dd0APyjD2pm4",
        "outputId": "f24b4932-8008-4ac9-f268-93ca0723a21a"
      },
      "execution_count": null,
      "outputs": [
        {
          "output_type": "stream",
          "name": "stdout",
          "text": [
            "\u001b[94m\u001b[1m[2024-11-21 08:35:55.615] | Status  | \u001b[0mDownloading from http://immortal.multicomp.cs.cmu.edu/CMU-MOSEI/language/CMU_MOSEI_TimestampedWordVectors.csd to cmumosei/CMU_MOSEI_TimestampedWordVectors.csd...\n"
          ]
        },
        {
          "output_type": "stream",
          "name": "stderr",
          "text": []
        },
        {
          "output_type": "stream",
          "name": "stdout",
          "text": [
            "\u001b[92m\u001b[1m[2024-11-21 08:36:50.936] | Success | \u001b[0mDownload complete!\n",
            "\u001b[92m\u001b[1m[2024-11-21 08:36:51.032] | Success | \u001b[0mComputational sequence read from file cmumosei/CMU_MOSEI_TimestampedWordVectors.csd ...\n",
            "\u001b[94m\u001b[1m[2024-11-21 08:36:51.363] | Status  | \u001b[0mChecking the integrity of the <glove_vectors> computational sequence ...\n",
            "\u001b[94m\u001b[1m[2024-11-21 08:36:51.364] | Status  | \u001b[0mChecking the format of the data in <glove_vectors> computational sequence ...\n"
          ]
        },
        {
          "output_type": "stream",
          "name": "stderr",
          "text": []
        },
        {
          "output_type": "stream",
          "name": "stdout",
          "text": [
            "\u001b[92m\u001b[1m[2024-11-21 08:36:53.612] | Success | \u001b[0m<glove_vectors> computational sequence data in correct format.\n",
            "\u001b[94m\u001b[1m[2024-11-21 08:36:53.612] | Status  | \u001b[0mChecking the format of the metadata in <glove_vectors> computational sequence ...\n",
            "\u001b[93m\u001b[1m[2024-11-21 08:36:53.612] | Warning | \u001b[0m<glove_vectors> computational sequence does not have all the required metadata ... continuing \n",
            "\u001b[94m\u001b[1m[2024-11-21 08:36:53.981] | Status  | \u001b[0mDownloading from http://immortal.multicomp.cs.cmu.edu/CMU-MOSEI/acoustic/CMU_MOSEI_COVAREP.csd to cmumosei/CMU_MOSEI_COVAREP.csd...\n"
          ]
        },
        {
          "output_type": "stream",
          "name": "stderr",
          "text": []
        },
        {
          "output_type": "stream",
          "name": "stdout",
          "text": [
            "\u001b[92m\u001b[1m[2024-11-21 08:44:33.479] | Success | \u001b[0mDownload complete!\n",
            "\u001b[92m\u001b[1m[2024-11-21 08:44:33.488] | Success | \u001b[0mComputational sequence read from file cmumosei/CMU_MOSEI_COVAREP.csd ...\n",
            "\u001b[94m\u001b[1m[2024-11-21 08:44:34.912] | Status  | \u001b[0mChecking the integrity of the <COVAREP> computational sequence ...\n",
            "\u001b[94m\u001b[1m[2024-11-21 08:44:34.912] | Status  | \u001b[0mChecking the format of the data in <COVAREP> computational sequence ...\n"
          ]
        },
        {
          "output_type": "stream",
          "name": "stderr",
          "text": []
        },
        {
          "output_type": "stream",
          "name": "stdout",
          "text": [
            "\u001b[92m\u001b[1m[2024-11-21 08:44:39.694] | Success | \u001b[0m<COVAREP> computational sequence data in correct format.\n",
            "\u001b[94m\u001b[1m[2024-11-21 08:44:39.694] | Status  | \u001b[0mChecking the format of the metadata in <COVAREP> computational sequence ...\n",
            "\u001b[93m\u001b[1m[2024-11-21 08:44:39.694] | Warning | \u001b[0m<COVAREP> computational sequence does not have all the required metadata ... continuing \n",
            "\u001b[94m\u001b[1m[2024-11-21 08:44:39.996] | Status  | \u001b[0mDownloading from http://immortal.multicomp.cs.cmu.edu/CMU-MOSEI/visual/CMU_MOSEI_VisualOpenFace2.csd to cmumosei/CMU_MOSEI_VisualOpenFace2.csd...\n"
          ]
        },
        {
          "output_type": "stream",
          "name": "stderr",
          "text": []
        },
        {
          "output_type": "stream",
          "name": "stdout",
          "text": [
            "\u001b[92m\u001b[1m[2024-11-21 08:55:31.922] | Success | \u001b[0mDownload complete!\n",
            "\u001b[92m\u001b[1m[2024-11-21 08:55:31.927] | Success | \u001b[0mComputational sequence read from file cmumosei/CMU_MOSEI_VisualOpenFace2.csd ...\n",
            "\u001b[94m\u001b[1m[2024-11-21 08:55:33.782] | Status  | \u001b[0mChecking the integrity of the <OpenFace_2> computational sequence ...\n",
            "\u001b[94m\u001b[1m[2024-11-21 08:55:33.783] | Status  | \u001b[0mChecking the format of the data in <OpenFace_2> computational sequence ...\n"
          ]
        },
        {
          "output_type": "stream",
          "name": "stderr",
          "text": []
        },
        {
          "output_type": "stream",
          "name": "stdout",
          "text": [
            "\u001b[92m\u001b[1m[2024-11-21 08:55:39.617] | Success | \u001b[0m<OpenFace_2> computational sequence data in correct format.\n",
            "\u001b[94m\u001b[1m[2024-11-21 08:55:39.617] | Status  | \u001b[0mChecking the format of the metadata in <OpenFace_2> computational sequence ...\n",
            "\u001b[93m\u001b[1m[2024-11-21 08:55:39.618] | Warning | \u001b[0m<OpenFace_2> computational sequence does not have all the required metadata ... continuing \n",
            "\u001b[94m\u001b[1m[2024-11-21 08:55:39.869] | Status  | \u001b[0mDownloading from http://immortal.multicomp.cs.cmu.edu/CMU-MOSEI/visual/CMU_MOSEI_VisualFacet42.csd to cmumosei/CMU_MOSEI_VisualFacet42.csd...\n"
          ]
        },
        {
          "output_type": "stream",
          "name": "stderr",
          "text": []
        },
        {
          "output_type": "stream",
          "name": "stdout",
          "text": [
            "\u001b[92m\u001b[1m[2024-11-21 08:57:01.747] | Success | \u001b[0mDownload complete!\n",
            "\u001b[92m\u001b[1m[2024-11-21 08:57:01.751] | Success | \u001b[0mComputational sequence read from file cmumosei/CMU_MOSEI_VisualFacet42.csd ...\n",
            "\u001b[94m\u001b[1m[2024-11-21 08:57:01.910] | Status  | \u001b[0mChecking the integrity of the <FACET 4.2> computational sequence ...\n",
            "\u001b[94m\u001b[1m[2024-11-21 08:57:01.915] | Status  | \u001b[0mChecking the format of the data in <FACET 4.2> computational sequence ...\n"
          ]
        },
        {
          "output_type": "stream",
          "name": "stderr",
          "text": [
            "                                                                                  "
          ]
        },
        {
          "output_type": "stream",
          "name": "stdout",
          "text": [
            "\u001b[92m\u001b[1m[2024-11-21 08:57:04.939] | Success | \u001b[0m<FACET 4.2> computational sequence data in correct format.\n",
            "\u001b[94m\u001b[1m[2024-11-21 08:57:04.939] | Status  | \u001b[0mChecking the format of the metadata in <FACET 4.2> computational sequence ...\n",
            "\u001b[93m\u001b[1m[2024-11-21 08:57:04.939] | Warning | \u001b[0m<FACET 4.2> computational sequence does not have all the required metadata ... continuing \n",
            "\u001b[92m\u001b[1m[2024-11-21 08:57:04.939] | Success | \u001b[0mDataset initialized successfully ... \n"
          ]
        },
        {
          "output_type": "stream",
          "name": "stderr",
          "text": [
            "\r"
          ]
        }
      ]
    },
    {
      "cell_type": "code",
      "source": [
        "# fetch dataset labels\n",
        "cmumosei_highlevel.add_computational_sequences(mmdatasdk.cmu_mosei.labels,'cmumosei/')"
      ],
      "metadata": {
        "colab": {
          "base_uri": "https://localhost:8080/"
        },
        "id": "WaujvmC936Bj",
        "outputId": "5ecf9beb-f846-49a2-a857-406cb547a967"
      },
      "execution_count": null,
      "outputs": [
        {
          "output_type": "stream",
          "name": "stdout",
          "text": [
            "\u001b[94m\u001b[1m[2024-11-21 09:12:32.501] | Status  | \u001b[0mDownloading from http://immortal.multicomp.cs.cmu.edu/CMU-MOSEI/labels/CMU_MOSEI_Labels.csd to cmumosei/CMU_MOSEI_Labels.csd...\n"
          ]
        },
        {
          "output_type": "stream",
          "name": "stderr",
          "text": []
        },
        {
          "output_type": "stream",
          "name": "stdout",
          "text": [
            "\u001b[92m\u001b[1m[2024-11-21 09:12:33.827] | Success | \u001b[0mDownload complete!\n",
            "\u001b[92m\u001b[1m[2024-11-21 09:12:33.832] | Success | \u001b[0mComputational sequence read from file cmumosei/CMU_MOSEI_Labels.csd ...\n",
            "\u001b[94m\u001b[1m[2024-11-21 09:12:33.930] | Status  | \u001b[0mChecking the integrity of the <All Labels> computational sequence ...\n",
            "\u001b[94m\u001b[1m[2024-11-21 09:12:33.931] | Status  | \u001b[0mChecking the format of the data in <All Labels> computational sequence ...\n"
          ]
        },
        {
          "output_type": "stream",
          "name": "stderr",
          "text": [
            "                                                                                  "
          ]
        },
        {
          "output_type": "stream",
          "name": "stdout",
          "text": [
            "\u001b[92m\u001b[1m[2024-11-21 09:12:35.610] | Success | \u001b[0m<All Labels> computational sequence data in correct format.\n",
            "\u001b[94m\u001b[1m[2024-11-21 09:12:35.610] | Status  | \u001b[0mChecking the format of the metadata in <All Labels> computational sequence ...\n",
            "\u001b[93m\u001b[1m[2024-11-21 09:12:35.610] | Warning | \u001b[0m<All Labels> computational sequence does not have all the required metadata ... continuing \n"
          ]
        },
        {
          "output_type": "stream",
          "name": "stderr",
          "text": [
            "\r"
          ]
        }
      ]
    },
    {
      "cell_type": "markdown",
      "source": [
        "# MOSEI 2"
      ],
      "metadata": {
        "id": "yhCGtEBhYgGo"
      }
    },
    {
      "cell_type": "code",
      "source": [
        "!git clone https://github.com/pliang279/MultiBench.git\n",
        "%cd MultiBench"
      ],
      "metadata": {
        "colab": {
          "base_uri": "https://localhost:8080/"
        },
        "id": "yljZDrJnFbJt",
        "outputId": "ffb40758-aaba-4dcb-ff18-74431a642e88"
      },
      "execution_count": 1,
      "outputs": [
        {
          "output_type": "stream",
          "name": "stdout",
          "text": [
            "Cloning into 'MultiBench'...\n",
            "remote: Enumerating objects: 6943, done.\u001b[K\n",
            "remote: Counting objects: 100% (154/154), done.\u001b[K\n",
            "remote: Compressing objects: 100% (94/94), done.\u001b[K\n",
            "remote: Total 6943 (delta 72), reused 121 (delta 60), pack-reused 6789 (from 1)\u001b[K\n",
            "Receiving objects: 100% (6943/6943), 51.07 MiB | 30.21 MiB/s, done.\n",
            "Resolving deltas: 100% (4258/4258), done.\n",
            "/content/MultiBench\n"
          ]
        }
      ]
    },
    {
      "cell_type": "code",
      "source": [
        "# access my drive\n",
        "from google.colab import drive\n",
        "drive.mount('/content/drive')"
      ],
      "metadata": {
        "colab": {
          "base_uri": "https://localhost:8080/"
        },
        "id": "AE2lE5DTH26m",
        "outputId": "3202ba06-8358-48b6-a1db-083385e331a8"
      },
      "execution_count": 2,
      "outputs": [
        {
          "output_type": "stream",
          "name": "stdout",
          "text": [
            "Mounted at /content/drive\n"
          ]
        }
      ]
    },
    {
      "cell_type": "code",
      "source": [
        "!pip uninstall torch torchvision torchaudio -y\n",
        "!pip install torch==2.3.0+cu118 torchvision==0.18.0+cu118 torchaudio==2.3.0+cu118 torchtext==0.18.0 -f https://download.pytorch.org/whl/torch_stable.html"
      ],
      "metadata": {
        "colab": {
          "base_uri": "https://localhost:8080/"
        },
        "id": "QBnurZ8eTGx3",
        "outputId": "a212f4da-5156-46de-8bab-59980550e049"
      },
      "execution_count": 3,
      "outputs": [
        {
          "output_type": "stream",
          "name": "stdout",
          "text": [
            "Found existing installation: torch 2.5.1+cu121\n",
            "Uninstalling torch-2.5.1+cu121:\n",
            "  Successfully uninstalled torch-2.5.1+cu121\n",
            "Found existing installation: torchvision 0.20.1+cu121\n",
            "Uninstalling torchvision-0.20.1+cu121:\n",
            "  Successfully uninstalled torchvision-0.20.1+cu121\n",
            "Found existing installation: torchaudio 2.5.1+cu121\n",
            "Uninstalling torchaudio-2.5.1+cu121:\n",
            "  Successfully uninstalled torchaudio-2.5.1+cu121\n",
            "Looking in links: https://download.pytorch.org/whl/torch_stable.html\n",
            "Collecting torch==2.3.0+cu118\n",
            "  Downloading https://download.pytorch.org/whl/cu118/torch-2.3.0%2Bcu118-cp310-cp310-linux_x86_64.whl (839.6 MB)\n",
            "\u001b[2K     \u001b[90m━━━━━━━━━━━━━━━━━━━━━━━━━━━━━━━━━━━━━━━━\u001b[0m \u001b[32m839.6/839.6 MB\u001b[0m \u001b[31m2.2 MB/s\u001b[0m eta \u001b[36m0:00:00\u001b[0m\n",
            "\u001b[?25hCollecting torchvision==0.18.0+cu118\n",
            "  Downloading https://download.pytorch.org/whl/cu118/torchvision-0.18.0%2Bcu118-cp310-cp310-linux_x86_64.whl (6.3 MB)\n",
            "\u001b[2K     \u001b[90m━━━━━━━━━━━━━━━━━━━━━━━━━━━━━━━━━━━━━━━━\u001b[0m \u001b[32m6.3/6.3 MB\u001b[0m \u001b[31m21.7 MB/s\u001b[0m eta \u001b[36m0:00:00\u001b[0m\n",
            "\u001b[?25hCollecting torchaudio==2.3.0+cu118\n",
            "  Downloading https://download.pytorch.org/whl/cu118/torchaudio-2.3.0%2Bcu118-cp310-cp310-linux_x86_64.whl (3.3 MB)\n",
            "\u001b[2K     \u001b[90m━━━━━━━━━━━━━━━━━━━━━━━━━━━━━━━━━━━━━━━━\u001b[0m \u001b[32m3.3/3.3 MB\u001b[0m \u001b[31m91.8 MB/s\u001b[0m eta \u001b[36m0:00:00\u001b[0m\n",
            "\u001b[?25hCollecting torchtext==0.18.0\n",
            "  Downloading https://download.pytorch.org/whl/cpu/torchtext-0.18.0%2Bcpu-cp310-cp310-linux_x86_64.whl (2.0 MB)\n",
            "\u001b[2K     \u001b[90m━━━━━━━━━━━━━━━━━━━━━━━━━━━━━━━━━━━━━━━━\u001b[0m \u001b[32m2.0/2.0 MB\u001b[0m \u001b[31m19.6 MB/s\u001b[0m eta \u001b[36m0:00:00\u001b[0m\n",
            "\u001b[?25hRequirement already satisfied: filelock in /usr/local/lib/python3.10/dist-packages (from torch==2.3.0+cu118) (3.16.1)\n",
            "Requirement already satisfied: typing-extensions>=4.8.0 in /usr/local/lib/python3.10/dist-packages (from torch==2.3.0+cu118) (4.12.2)\n",
            "Requirement already satisfied: sympy in /usr/local/lib/python3.10/dist-packages (from torch==2.3.0+cu118) (1.13.1)\n",
            "Requirement already satisfied: networkx in /usr/local/lib/python3.10/dist-packages (from torch==2.3.0+cu118) (3.4.2)\n",
            "Requirement already satisfied: jinja2 in /usr/local/lib/python3.10/dist-packages (from torch==2.3.0+cu118) (3.1.4)\n",
            "Requirement already satisfied: fsspec in /usr/local/lib/python3.10/dist-packages (from torch==2.3.0+cu118) (2024.10.0)\n",
            "Collecting nvidia-cuda-nvrtc-cu11==11.8.89 (from torch==2.3.0+cu118)\n",
            "  Downloading nvidia_cuda_nvrtc_cu11-11.8.89-py3-none-manylinux2014_x86_64.whl.metadata (1.5 kB)\n",
            "Collecting nvidia-cuda-runtime-cu11==11.8.89 (from torch==2.3.0+cu118)\n",
            "  Downloading nvidia_cuda_runtime_cu11-11.8.89-py3-none-manylinux2014_x86_64.whl.metadata (1.5 kB)\n",
            "Collecting nvidia-cuda-cupti-cu11==11.8.87 (from torch==2.3.0+cu118)\n",
            "  Downloading nvidia_cuda_cupti_cu11-11.8.87-py3-none-manylinux2014_x86_64.whl.metadata (1.6 kB)\n",
            "Collecting nvidia-cudnn-cu11==8.7.0.84 (from torch==2.3.0+cu118)\n",
            "  Downloading nvidia_cudnn_cu11-8.7.0.84-py3-none-manylinux1_x86_64.whl.metadata (1.6 kB)\n",
            "Collecting nvidia-cublas-cu11==11.11.3.6 (from torch==2.3.0+cu118)\n",
            "  Downloading nvidia_cublas_cu11-11.11.3.6-py3-none-manylinux2014_x86_64.whl.metadata (1.5 kB)\n",
            "Collecting nvidia-cufft-cu11==10.9.0.58 (from torch==2.3.0+cu118)\n",
            "  Downloading nvidia_cufft_cu11-10.9.0.58-py3-none-manylinux2014_x86_64.whl.metadata (1.5 kB)\n",
            "Collecting nvidia-curand-cu11==10.3.0.86 (from torch==2.3.0+cu118)\n",
            "  Downloading nvidia_curand_cu11-10.3.0.86-py3-none-manylinux2014_x86_64.whl.metadata (1.5 kB)\n",
            "Collecting nvidia-cusolver-cu11==11.4.1.48 (from torch==2.3.0+cu118)\n",
            "  Downloading nvidia_cusolver_cu11-11.4.1.48-py3-none-manylinux2014_x86_64.whl.metadata (1.6 kB)\n",
            "Collecting nvidia-cusparse-cu11==11.7.5.86 (from torch==2.3.0+cu118)\n",
            "  Downloading nvidia_cusparse_cu11-11.7.5.86-py3-none-manylinux2014_x86_64.whl.metadata (1.5 kB)\n",
            "Collecting nvidia-nccl-cu11==2.20.5 (from torch==2.3.0+cu118)\n",
            "  Downloading nvidia_nccl_cu11-2.20.5-py3-none-manylinux2014_x86_64.whl.metadata (1.8 kB)\n",
            "Collecting nvidia-nvtx-cu11==11.8.86 (from torch==2.3.0+cu118)\n",
            "  Downloading nvidia_nvtx_cu11-11.8.86-py3-none-manylinux2014_x86_64.whl.metadata (1.7 kB)\n",
            "Collecting triton==2.3.0 (from torch==2.3.0+cu118)\n",
            "  Downloading triton-2.3.0-cp310-cp310-manylinux_2_17_x86_64.manylinux2014_x86_64.whl.metadata (1.4 kB)\n",
            "Requirement already satisfied: numpy in /usr/local/lib/python3.10/dist-packages (from torchvision==0.18.0+cu118) (1.26.4)\n",
            "Requirement already satisfied: pillow!=8.3.*,>=5.3.0 in /usr/local/lib/python3.10/dist-packages (from torchvision==0.18.0+cu118) (11.0.0)\n",
            "Requirement already satisfied: tqdm in /usr/local/lib/python3.10/dist-packages (from torchtext==0.18.0) (4.66.6)\n",
            "Requirement already satisfied: requests in /usr/local/lib/python3.10/dist-packages (from torchtext==0.18.0) (2.32.3)\n",
            "Requirement already satisfied: MarkupSafe>=2.0 in /usr/local/lib/python3.10/dist-packages (from jinja2->torch==2.3.0+cu118) (3.0.2)\n",
            "Requirement already satisfied: charset-normalizer<4,>=2 in /usr/local/lib/python3.10/dist-packages (from requests->torchtext==0.18.0) (3.4.0)\n",
            "Requirement already satisfied: idna<4,>=2.5 in /usr/local/lib/python3.10/dist-packages (from requests->torchtext==0.18.0) (3.10)\n",
            "Requirement already satisfied: urllib3<3,>=1.21.1 in /usr/local/lib/python3.10/dist-packages (from requests->torchtext==0.18.0) (2.2.3)\n",
            "Requirement already satisfied: certifi>=2017.4.17 in /usr/local/lib/python3.10/dist-packages (from requests->torchtext==0.18.0) (2024.8.30)\n",
            "Requirement already satisfied: mpmath<1.4,>=1.1.0 in /usr/local/lib/python3.10/dist-packages (from sympy->torch==2.3.0+cu118) (1.3.0)\n",
            "Downloading nvidia_cublas_cu11-11.11.3.6-py3-none-manylinux2014_x86_64.whl (417.9 MB)\n",
            "\u001b[2K   \u001b[90m━━━━━━━━━━━━━━━━━━━━━━━━━━━━━━━━━━━━━━━━\u001b[0m \u001b[32m417.9/417.9 MB\u001b[0m \u001b[31m2.9 MB/s\u001b[0m eta \u001b[36m0:00:00\u001b[0m\n",
            "\u001b[?25hDownloading nvidia_cuda_cupti_cu11-11.8.87-py3-none-manylinux2014_x86_64.whl (13.1 MB)\n",
            "\u001b[2K   \u001b[90m━━━━━━━━━━━━━━━━━━━━━━━━━━━━━━━━━━━━━━━━\u001b[0m \u001b[32m13.1/13.1 MB\u001b[0m \u001b[31m109.7 MB/s\u001b[0m eta \u001b[36m0:00:00\u001b[0m\n",
            "\u001b[?25hDownloading nvidia_cuda_nvrtc_cu11-11.8.89-py3-none-manylinux2014_x86_64.whl (23.2 MB)\n",
            "\u001b[2K   \u001b[90m━━━━━━━━━━━━━━━━━━━━━━━━━━━━━━━━━━━━━━━━\u001b[0m \u001b[32m23.2/23.2 MB\u001b[0m \u001b[31m91.4 MB/s\u001b[0m eta \u001b[36m0:00:00\u001b[0m\n",
            "\u001b[?25hDownloading nvidia_cuda_runtime_cu11-11.8.89-py3-none-manylinux2014_x86_64.whl (875 kB)\n",
            "\u001b[2K   \u001b[90m━━━━━━━━━━━━━━━━━━━━━━━━━━━━━━━━━━━━━━━━\u001b[0m \u001b[32m875.6/875.6 kB\u001b[0m \u001b[31m52.5 MB/s\u001b[0m eta \u001b[36m0:00:00\u001b[0m\n",
            "\u001b[?25hDownloading nvidia_cudnn_cu11-8.7.0.84-py3-none-manylinux1_x86_64.whl (728.5 MB)\n",
            "\u001b[2K   \u001b[90m━━━━━━━━━━━━━━━━━━━━━━━━━━━━━━━━━━━━━━━━\u001b[0m \u001b[32m728.5/728.5 MB\u001b[0m \u001b[31m2.0 MB/s\u001b[0m eta \u001b[36m0:00:00\u001b[0m\n",
            "\u001b[?25hDownloading nvidia_cufft_cu11-10.9.0.58-py3-none-manylinux2014_x86_64.whl (168.4 MB)\n",
            "\u001b[2K   \u001b[90m━━━━━━━━━━━━━━━━━━━━━━━━━━━━━━━━━━━━━━━━\u001b[0m \u001b[32m168.4/168.4 MB\u001b[0m \u001b[31m13.2 MB/s\u001b[0m eta \u001b[36m0:00:00\u001b[0m\n",
            "\u001b[?25hDownloading nvidia_curand_cu11-10.3.0.86-py3-none-manylinux2014_x86_64.whl (58.1 MB)\n",
            "\u001b[2K   \u001b[90m━━━━━━━━━━━━━━━━━━━━━━━━━━━━━━━━━━━━━━━━\u001b[0m \u001b[32m58.1/58.1 MB\u001b[0m \u001b[31m36.9 MB/s\u001b[0m eta \u001b[36m0:00:00\u001b[0m\n",
            "\u001b[?25hDownloading nvidia_cusolver_cu11-11.4.1.48-py3-none-manylinux2014_x86_64.whl (128.2 MB)\n",
            "\u001b[2K   \u001b[90m━━━━━━━━━━━━━━━━━━━━━━━━━━━━━━━━━━━━━━━━\u001b[0m \u001b[32m128.2/128.2 MB\u001b[0m \u001b[31m5.3 MB/s\u001b[0m eta \u001b[36m0:00:00\u001b[0m\n",
            "\u001b[?25hDownloading nvidia_cusparse_cu11-11.7.5.86-py3-none-manylinux2014_x86_64.whl (204.1 MB)\n",
            "\u001b[2K   \u001b[90m━━━━━━━━━━━━━━━━━━━━━━━━━━━━━━━━━━━━━━━━\u001b[0m \u001b[32m204.1/204.1 MB\u001b[0m \u001b[31m4.6 MB/s\u001b[0m eta \u001b[36m0:00:00\u001b[0m\n",
            "\u001b[?25hDownloading nvidia_nccl_cu11-2.20.5-py3-none-manylinux2014_x86_64.whl (142.9 MB)\n",
            "\u001b[2K   \u001b[90m━━━━━━━━━━━━━━━━━━━━━━━━━━━━━━━━━━━━━━━━\u001b[0m \u001b[32m142.9/142.9 MB\u001b[0m \u001b[31m16.1 MB/s\u001b[0m eta \u001b[36m0:00:00\u001b[0m\n",
            "\u001b[?25hDownloading nvidia_nvtx_cu11-11.8.86-py3-none-manylinux2014_x86_64.whl (99 kB)\n",
            "\u001b[2K   \u001b[90m━━━━━━━━━━━━━━━━━━━━━━━━━━━━━━━━━━━━━━━━\u001b[0m \u001b[32m99.1/99.1 kB\u001b[0m \u001b[31m7.3 MB/s\u001b[0m eta \u001b[36m0:00:00\u001b[0m\n",
            "\u001b[?25hDownloading triton-2.3.0-cp310-cp310-manylinux_2_17_x86_64.manylinux2014_x86_64.whl (168.1 MB)\n",
            "\u001b[2K   \u001b[90m━━━━━━━━━━━━━━━━━━━━━━━━━━━━━━━━━━━━━━━━\u001b[0m \u001b[32m168.1/168.1 MB\u001b[0m \u001b[31m4.9 MB/s\u001b[0m eta \u001b[36m0:00:00\u001b[0m\n",
            "\u001b[?25hInstalling collected packages: triton, nvidia-nvtx-cu11, nvidia-nccl-cu11, nvidia-cusparse-cu11, nvidia-curand-cu11, nvidia-cufft-cu11, nvidia-cuda-runtime-cu11, nvidia-cuda-nvrtc-cu11, nvidia-cuda-cupti-cu11, nvidia-cublas-cu11, nvidia-cusolver-cu11, nvidia-cudnn-cu11, torch, torchvision, torchtext, torchaudio\n",
            "Successfully installed nvidia-cublas-cu11-11.11.3.6 nvidia-cuda-cupti-cu11-11.8.87 nvidia-cuda-nvrtc-cu11-11.8.89 nvidia-cuda-runtime-cu11-11.8.89 nvidia-cudnn-cu11-8.7.0.84 nvidia-cufft-cu11-10.9.0.58 nvidia-curand-cu11-10.3.0.86 nvidia-cusolver-cu11-11.4.1.48 nvidia-cusparse-cu11-11.7.5.86 nvidia-nccl-cu11-2.20.5 nvidia-nvtx-cu11-11.8.86 torch-2.3.0+cu118 torchaudio-2.3.0+cu118 torchtext-0.18.0+cpu torchvision-0.18.0+cu118 triton-2.3.0\n"
          ]
        }
      ]
    },
    {
      "cell_type": "code",
      "source": [
        "import torch\n",
        "import sys\n",
        "import os\n",
        "# Import the associated dataloader for affect datasets, which MOSEI is a part of\n",
        "from datasets.affect.get_data import get_dataloader"
      ],
      "metadata": {
        "id": "joDuk4ERJd_U"
      },
      "execution_count": 4,
      "outputs": []
    },
    {
      "cell_type": "code",
      "source": [
        "# Create the training, validation, and test-set dataloaders.\n",
        "traindata, validdata, testdata = get_dataloader('/content/drive/MyDrive/data/mosei_raw.pkl', data_type='mosei', max_pad=True)"
      ],
      "metadata": {
        "id": "HYpor9In3VuL"
      },
      "execution_count": 59,
      "outputs": []
    },
    {
      "cell_type": "code",
      "source": [
        "traindata.dataset[0]"
      ],
      "metadata": {
        "colab": {
          "base_uri": "https://localhost:8080/"
        },
        "id": "Gn_8ROodQYZT",
        "outputId": "cb454497-6790-4a0c-f8cd-52ae4a08c628"
      },
      "execution_count": 68,
      "outputs": [
        {
          "output_type": "execute_result",
          "data": {
            "text/plain": [
              "[tensor([[ 0.0000, 86.5667,  0.9800,  ...,  0.0000,  0.0000,  0.3846],\n",
              "         [ 0.0000, 86.8667,  0.9800,  ...,  0.0000,  0.0000,  0.0000],\n",
              "         [ 0.0000, 87.2500,  0.9800,  ...,  0.0000,  0.0000,  0.1111],\n",
              "         ...,\n",
              "         [ 0.0000,  0.0000,  0.0000,  ...,  0.0000,  0.0000,  0.0000],\n",
              "         [ 0.0000,  0.0000,  0.0000,  ...,  0.0000,  0.0000,  0.0000],\n",
              "         [ 0.0000,  0.0000,  0.0000,  ...,  0.0000,  0.0000,  0.0000]]),\n",
              " tensor([[ 1.1593e+02,  7.0000e-01,  7.6338e-02,  ..., -3.4502e-01,\n",
              "          -3.3369e-01, -2.5789e-01],\n",
              "         [ 1.0325e+02,  9.0909e-01,  1.2092e-01,  ..., -3.6509e-01,\n",
              "          -4.0033e-01, -2.8453e-01],\n",
              "         [ 1.3098e+02,  6.2069e-01,  1.1778e-01,  ..., -3.8097e-01,\n",
              "          -3.5543e-01, -2.8628e-01],\n",
              "         ...,\n",
              "         [ 0.0000e+00,  0.0000e+00,  0.0000e+00,  ...,  0.0000e+00,\n",
              "           0.0000e+00,  0.0000e+00],\n",
              "         [ 0.0000e+00,  0.0000e+00,  0.0000e+00,  ...,  0.0000e+00,\n",
              "           0.0000e+00,  0.0000e+00],\n",
              "         [ 0.0000e+00,  0.0000e+00,  0.0000e+00,  ...,  0.0000e+00,\n",
              "           0.0000e+00,  0.0000e+00]]),\n",
              " tensor([[ 0.3358,  0.3090,  0.1210,  ...,  0.2656, -0.1599, -0.0340],\n",
              "         [-0.0850,  0.5020,  0.0024,  ..., -0.2151, -0.2630, -0.0060],\n",
              "         [ 0.0175,  0.0180,  0.0710,  ...,  0.0735, -0.3156,  0.1167],\n",
              "         ...,\n",
              "         [ 0.0000,  0.0000,  0.0000,  ...,  0.0000,  0.0000,  0.0000],\n",
              "         [ 0.0000,  0.0000,  0.0000,  ...,  0.0000,  0.0000,  0.0000],\n",
              "         [ 0.0000,  0.0000,  0.0000,  ...,  0.0000,  0.0000,  0.0000]]),\n",
              " tensor([[1.0000, 0.6667, 0.6667, 0.0000, 0.0000, 0.0000, 0.6667]])]"
            ]
          },
          "metadata": {},
          "execution_count": 68
        }
      ]
    },
    {
      "cell_type": "code",
      "source": [
        "# shape of elements in a line\n",
        "for i in range(3):\n",
        "    data = traindata.dataset[i]\n",
        "    print(data[0].size())\n",
        "    print(data[1].size())\n",
        "    print(data[2].size())\n",
        "    print(data[3].size())\n",
        "    print()"
      ],
      "metadata": {
        "colab": {
          "base_uri": "https://localhost:8080/"
        },
        "id": "i7WOl6lRQdyV",
        "outputId": "e6ebdece-851c-40ca-be1b-393f6fe81403"
      },
      "execution_count": 69,
      "outputs": [
        {
          "output_type": "stream",
          "name": "stdout",
          "text": [
            "torch.Size([50, 713])\n",
            "torch.Size([50, 74])\n",
            "torch.Size([50, 300])\n",
            "torch.Size([1, 7])\n",
            "\n",
            "torch.Size([50, 713])\n",
            "torch.Size([50, 74])\n",
            "torch.Size([50, 300])\n",
            "torch.Size([1, 7])\n",
            "\n",
            "torch.Size([50, 713])\n",
            "torch.Size([50, 74])\n",
            "torch.Size([50, 300])\n",
            "torch.Size([1, 7])\n",
            "\n"
          ]
        }
      ]
    },
    {
      "cell_type": "markdown",
      "source": [
        "So we know that index 0 is video, index 1 is audio, index 2 is text, index 3 is label"
      ],
      "metadata": {
        "id": "WsTBDPYUQicK"
      }
    },
    {
      "cell_type": "code",
      "source": [
        "# shape of elements in a batch\n",
        "for video, audio, text, label in traindata:\n",
        "    print('Video Tensor Shape:', video.shape)\n",
        "    print('Audio Tensor Shape:', audio.shape)\n",
        "    print('Text Tensor Shape:', text.shape)\n",
        "    print('Label Shape:', label.shape)\n",
        "    break  # Stop after the first batch for inspection"
      ],
      "metadata": {
        "colab": {
          "base_uri": "https://localhost:8080/"
        },
        "id": "VmRU_whMRH0C",
        "outputId": "405eb502-df5b-4fb7-9f40-110692e4ddb2"
      },
      "execution_count": 70,
      "outputs": [
        {
          "output_type": "stream",
          "name": "stdout",
          "text": [
            "Video Tensor Shape: torch.Size([32, 50, 713])\n",
            "Audio Tensor Shape: torch.Size([32, 50, 74])\n",
            "Text Tensor Shape: torch.Size([32, 50, 300])\n",
            "Label Shape: torch.Size([32, 1])\n"
          ]
        }
      ]
    },
    {
      "cell_type": "markdown",
      "source": [
        "The label shape is wrong, it should be [32, 1, 7]. Need to correct it, also I would like to drop the singleton dimension and result with [32, 7]"
      ],
      "metadata": {
        "id": "YmRUvTseKxVZ"
      }
    },
    {
      "cell_type": "code",
      "source": [
        "from torch.utils.data import DataLoader"
      ],
      "metadata": {
        "id": "eTv_pptmIQ3N"
      },
      "execution_count": 71,
      "outputs": []
    },
    {
      "cell_type": "code",
      "source": [
        "def custom_collate(batch):\n",
        "    videos, audios, texts, labels = zip(*batch)  # Unpack the batch\n",
        "\n",
        "    # Stack inputs as usual\n",
        "    videos = torch.stack(videos)\n",
        "    audios = torch.stack(audios)\n",
        "    texts = torch.stack(texts)\n",
        "\n",
        "    # Stack labels and remove the singleton dimension\n",
        "    labels = torch.cat(labels, dim=0)  # Shape: [batch_size, 7]\n",
        "\n",
        "    return videos, audios, texts, labels\n",
        "\n",
        "# Create DataLoader with custom collate function\n",
        "traindata = DataLoader(traindata.dataset, batch_size=32, collate_fn=custom_collate)"
      ],
      "metadata": {
        "id": "m1EBWXwVKilN"
      },
      "execution_count": 72,
      "outputs": []
    },
    {
      "cell_type": "code",
      "source": [
        "for video, audio, text, label in traindata:\n",
        "    print('Label Shape:', label.shape)\n",
        "    break"
      ],
      "metadata": {
        "colab": {
          "base_uri": "https://localhost:8080/"
        },
        "id": "33HjqlQ6IWSu",
        "outputId": "c73e7d30-cafc-40fe-eaee-7f3a83087ad9"
      },
      "execution_count": 73,
      "outputs": [
        {
          "output_type": "stream",
          "name": "stdout",
          "text": [
            "Label Shape: torch.Size([32, 7])\n"
          ]
        }
      ]
    },
    {
      "cell_type": "markdown",
      "source": [
        "## Perform z-score standardization"
      ],
      "metadata": {
        "id": "ClIxhIe8DwpC"
      }
    },
    {
      "cell_type": "code",
      "source": [
        "# Initialize accumulators for mean and standard deviation\n",
        "video_sum, video_sq_sum, video_count = 0, 0, 0\n",
        "audio_sum, audio_sq_sum, audio_count = 0, 0, 0\n",
        "text_sum, text_sq_sum, text_count = 0, 0, 0\n",
        "\n",
        "# Helper function to calculate valid rows (eliminate padded all-zero rows)\n",
        "def get_valid_rows(batch):\n",
        "    '''\n",
        "    Loops backward through each sequence in the batch to find where the padding ends.\n",
        "    '''\n",
        "    valid_rows = []\n",
        "    for seq in batch:\n",
        "        # Loop backward to find the first non-zero row\n",
        "        for i in range(seq.size(0) - 1, -1, -1):\n",
        "            if seq[i].sum() != 0:  # If a row is non-zero, it's valid\n",
        "                valid_rows.append(seq[:i + 1])  # Include all rows up to this one\n",
        "                break\n",
        "    return valid_rows\n",
        "\n",
        "for video, audio, text, _ in traindata:  # Returns batches for each modality\n",
        "    # Process video modality\n",
        "    valid_video_rows = get_valid_rows(video)\n",
        "    for rows in valid_video_rows:\n",
        "        video_sum += rows.sum(dim=0)  # Sum valid rows\n",
        "        video_sq_sum += (rows ** 2).sum(dim=0)  # Sum squared valid rows\n",
        "        video_count += rows.size(0)  # Count valid rows\n",
        "\n",
        "    # Process audio modality\n",
        "    valid_audio_rows = get_valid_rows(audio)\n",
        "    for rows in valid_audio_rows:\n",
        "        audio_sum += rows.sum(dim=0)\n",
        "        audio_sq_sum += (rows ** 2).sum(dim=0)\n",
        "        audio_count += rows.size(0)\n",
        "\n",
        "    # Process text modality\n",
        "    valid_text_rows = get_valid_rows(text)\n",
        "    for rows in valid_text_rows:\n",
        "        text_sum += rows.sum(dim=0)\n",
        "        text_sq_sum += (rows ** 2).sum(dim=0)\n",
        "        text_count += rows.size(0)\n",
        "\n",
        "# Calculate mean and std for each modality\n",
        "video_mean = video_sum / video_count\n",
        "video_std = torch.sqrt(video_sq_sum / video_count - video_mean ** 2)\n",
        "\n",
        "audio_mean = audio_sum / audio_count\n",
        "audio_std = torch.sqrt(audio_sq_sum / audio_count - audio_mean ** 2)\n",
        "\n",
        "text_mean = text_sum / text_count\n",
        "text_std = torch.sqrt(text_sq_sum / text_count - text_mean ** 2)\n",
        "\n",
        "# If any feature in a modality has zero variance, set its standard deviation to 1.0 to avoid division by zero\n",
        "video_std[video_std == 0] = 1.0\n",
        "audio_std[audio_std == 0] = 1.0\n",
        "text_std[text_std == 0] = 1.0\n",
        "\n",
        "# Print computed values\n",
        "print('Video mean:', video_mean, '\\n')\n",
        "print('Video std:', video_std, '\\n')\n",
        "print('Audio mean:', audio_mean, '\\n')\n",
        "print('Audio std:', audio_std, '\\n')\n",
        "print('Text mean:', text_mean, '\\n')\n",
        "print('Text std:', text_std)"
      ],
      "metadata": {
        "colab": {
          "base_uri": "https://localhost:8080/"
        },
        "id": "OkRPYi3RZeKd",
        "outputId": "191bbf36-c838-454a-88a2-c515eeb0a6e8"
      },
      "execution_count": 74,
      "outputs": [
        {
          "output_type": "stream",
          "name": "stdout",
          "text": [
            "Video mean: tensor([ 0.0000e+00,  5.7517e+01,  9.3876e-01,  9.6661e-01,  5.4636e-02,\n",
            "         1.8333e-01, -9.0856e-01, -8.3082e-02,  1.8719e-01, -9.0563e-01,\n",
            "        -1.5194e-02,  1.9564e-01,  4.0773e+02,  4.0960e+02,  4.1435e+02,\n",
            "         4.1919e+02,  4.2129e+02,  4.1978e+02,  4.1467e+02,  4.0983e+02,\n",
            "         4.0172e+02,  4.0454e+02,  4.0860e+02,  4.1370e+02,  4.1895e+02,\n",
            "         4.2304e+02,  4.2597e+02,  4.2277e+02,  4.1827e+02,  4.1336e+02,\n",
            "         4.0872e+02,  4.0469e+02,  4.1249e+02,  4.1465e+02,  4.1677e+02,\n",
            "         4.1760e+02,  4.1666e+02,  4.1450e+02,  4.1238e+02,  4.1155e+02,\n",
            "         4.7193e+02,  4.7381e+02,  4.7863e+02,  4.8357e+02,  4.8573e+02,\n",
            "         4.8385e+02,  4.7903e+02,  4.7371e+02,  4.6723e+02,  4.7033e+02,\n",
            "         4.7458e+02,  4.7991e+02,  4.8494e+02,  4.8883e+02,  4.9152e+02,\n",
            "         4.8888e+02,  4.8510e+02,  4.8057e+02,  4.7553e+02,  4.7074e+02,\n",
            "         4.7656e+02,  4.7877e+02,  4.8093e+02,  4.8177e+02,  4.8080e+02,\n",
            "         4.7859e+02,  4.7644e+02,  4.7560e+02,  1.7781e+02,  1.7284e+02,\n",
            "         1.7062e+02,  1.7246e+02,  1.7728e+02,  1.8264e+02,  1.8448e+02,\n",
            "         1.8263e+02,  1.8005e+02,  1.7731e+02,  1.7542e+02,  1.7435e+02,\n",
            "         1.7497e+02,  1.7683e+02,  1.7962e+02,  1.8135e+02,  1.8208e+02,\n",
            "         1.8256e+02,  1.8245e+02,  1.8172e+02,  1.7998e+02,  1.8080e+02,\n",
            "         1.7981e+02,  1.7759e+02,  1.7544e+02,  1.7461e+02,  1.7560e+02,\n",
            "         1.7783e+02,  1.7689e+02,  1.7190e+02,  1.6987e+02,  1.7200e+02,\n",
            "         1.7703e+02,  1.8202e+02,  1.8405e+02,  1.8233e+02,  1.7925e+02,\n",
            "         1.7641e+02,  1.7446e+02,  1.7374e+02,  1.7472e+02,  1.7653e+02,\n",
            "         1.7923e+02,  1.8091e+02,  1.8168e+02,  1.8187e+02,  1.8152e+02,\n",
            "         1.8092e+02,  1.7938e+02,  1.8033e+02,  1.7942e+02,  1.7719e+02,\n",
            "         1.7494e+02,  1.7399e+02,  1.7489e+02,  1.7713e+02, -2.4353e+01,\n",
            "        -2.2791e+01, -1.8801e+01, -1.4729e+01, -1.2963e+01, -1.4237e+01,\n",
            "        -1.8508e+01, -2.2574e+01, -2.9734e+01, -2.7170e+01, -2.3597e+01,\n",
            "        -1.9245e+01, -1.4867e+01, -1.1502e+01, -9.1036e+00, -1.1741e+01,\n",
            "        -1.5458e+01, -1.9551e+01, -2.3510e+01, -2.7050e+01, -2.0382e+01,\n",
            "        -1.8576e+01, -1.6808e+01, -1.6114e+01, -1.6899e+01, -1.8707e+01,\n",
            "        -2.0476e+01, -2.1171e+01,  1.9586e+01,  2.1164e+01,  2.5163e+01,\n",
            "         2.9239e+01,  3.0989e+01,  2.9388e+01,  2.5390e+01,  2.1031e+01,\n",
            "         1.5737e+01,  1.8236e+01,  2.1691e+01,  2.6077e+01,  3.0320e+01,\n",
            "         3.3704e+01,  3.6103e+01,  3.3713e+01,  3.0420e+01,  2.6591e+01,\n",
            "         2.2460e+01,  1.8577e+01,  2.3438e+01,  2.5243e+01,  2.7021e+01,\n",
            "         2.7729e+01,  2.6951e+01,  2.5141e+01,  2.3364e+01,  2.2659e+01,\n",
            "        -9.4909e+01, -9.9177e+01, -1.0103e+02, -9.9377e+01, -9.5196e+01,\n",
            "        -9.0645e+01, -8.9096e+01, -9.0735e+01, -9.3465e+01, -9.5469e+01,\n",
            "        -9.6745e+01, -9.7453e+01, -9.6924e+01, -9.5447e+01, -9.3235e+01,\n",
            "        -9.1607e+01, -9.0861e+01, -9.0480e+01, -9.0761e+01, -9.1685e+01,\n",
            "        -9.3098e+01, -9.2369e+01, -9.3190e+01, -9.5081e+01, -9.6935e+01,\n",
            "        -9.7667e+01, -9.6845e+01, -9.4952e+01, -8.9194e+01, -9.3463e+01,\n",
            "        -9.5288e+01, -9.3582e+01, -8.9347e+01, -8.5079e+01, -8.3278e+01,\n",
            "        -8.4666e+01, -8.7176e+01, -8.9423e+01, -9.0987e+01, -9.1649e+01,\n",
            "        -9.1087e+01, -8.9931e+01, -8.8024e+01, -8.6216e+01, -8.5222e+01,\n",
            "        -8.4828e+01, -8.5064e+01, -8.5655e+01, -8.7300e+01, -8.6542e+01,\n",
            "        -8.7345e+01, -8.9243e+01, -9.1123e+01, -9.1881e+01, -9.1073e+01,\n",
            "        -8.9175e+01,  6.6529e+02,  6.6581e+02,  6.6582e+02,  6.6531e+02,\n",
            "         6.6458e+02,  6.6426e+02,  6.6404e+02,  6.6456e+02,  6.6935e+02,\n",
            "         6.6682e+02,  6.6450e+02,  6.6324e+02,  6.6354e+02,  6.6466e+02,\n",
            "         6.6604e+02,  6.6447e+02,  6.6309e+02,  6.6296e+02,  6.6427e+02,\n",
            "         6.6663e+02,  6.6555e+02,  6.6532e+02,  6.6532e+02,  6.6556e+02,\n",
            "         6.6588e+02,  6.6611e+02,  6.6611e+02,  6.6587e+02,  5.8217e+02,\n",
            "         5.8319e+02,  5.8416e+02,  5.8451e+02,  5.8404e+02,  5.8302e+02,\n",
            "         5.8205e+02,  5.8186e+02,  5.8310e+02,  5.8205e+02,  5.8135e+02,\n",
            "         5.8155e+02,  5.8325e+02,  5.8587e+02,  5.8860e+02,  5.8559e+02,\n",
            "         5.8286e+02,  5.8110e+02,  5.8079e+02,  5.8178e+02,  5.8325e+02,\n",
            "         5.8341e+02,  5.8384e+02,  5.8430e+02,  5.8451e+02,  5.8435e+02,\n",
            "         5.8392e+02,  5.8346e+02, -3.1760e+05, -1.8104e+05,  4.3731e+05,\n",
            "         8.4041e-02,  4.7042e-02, -3.6029e-03,  3.7420e+02,  3.7415e+02,\n",
            "         3.7620e+02,  3.8021e+02,  3.8730e+02,  3.9854e+02,  4.1222e+02,\n",
            "         4.2858e+02,  4.4749e+02,  4.6628e+02,  4.8260e+02,  4.9696e+02,\n",
            "         5.0799e+02,  5.1489e+02,  5.1851e+02,  5.2053e+02,  5.2120e+02,\n",
            "         3.8714e+02,  3.9594e+02,  4.0791e+02,  4.2049e+02,  4.3202e+02,\n",
            "         4.6092e+02,  4.7344e+02,  4.8564e+02,  4.9735e+02,  5.0584e+02,\n",
            "         4.4689e+02,  4.4683e+02,  4.4681e+02,  4.4677e+02,  4.3177e+02,\n",
            "         4.3915e+02,  4.4680e+02,  4.5470e+02,  4.6179e+02,  4.0120e+02,\n",
            "         4.0907e+02,  4.1850e+02,  4.2662e+02,  4.1819e+02,  4.0888e+02,\n",
            "         4.6661e+02,  4.7504e+02,  4.8446e+02,  4.9204e+02,  4.8500e+02,\n",
            "         4.7579e+02,  4.1872e+02,  4.2903e+02,  4.3963e+02,  4.4678e+02,\n",
            "         4.5461e+02,  4.6552e+02,  4.7548e+02,  4.6586e+02,  4.5534e+02,\n",
            "         4.4688e+02,  4.3906e+02,  4.2859e+02,  4.2321e+02,  4.3956e+02,\n",
            "         4.4681e+02,  4.5474e+02,  4.7112e+02,  4.5476e+02,  4.4670e+02,\n",
            "         4.3931e+02,  1.8460e+02,  2.0480e+02,  2.2514e+02,  2.4498e+02,\n",
            "         2.6338e+02,  2.7944e+02,  2.9220e+02,  3.0179e+02,  3.0450e+02,\n",
            "         3.0177e+02,  2.9226e+02,  2.7943e+02,  2.6345e+02,  2.4468e+02,\n",
            "         2.2452e+02,  2.0408e+02,  1.8387e+02,  1.6351e+02,  1.5459e+02,\n",
            "         1.5131e+02,  1.5243e+02,  1.5643e+02,  1.5583e+02,  1.5154e+02,\n",
            "         1.5062e+02,  1.5345e+02,  1.6133e+02,  1.7431e+02,  1.8653e+02,\n",
            "         1.9862e+02,  2.1120e+02,  2.2296e+02,  2.2545e+02,  2.2752e+02,\n",
            "         2.2537e+02,  2.2295e+02,  1.7997e+02,  1.7506e+02,  1.7496e+02,\n",
            "         1.7989e+02,  1.8213e+02,  1.8245e+02,  1.7953e+02,  1.7432e+02,\n",
            "         1.7457e+02,  1.7901e+02,  1.8163e+02,  1.8158e+02,  2.5239e+02,\n",
            "         2.4527e+02,  2.4205e+02,  2.4387e+02,  2.4211e+02,  2.4547e+02,\n",
            "         2.5166e+02,  2.6144e+02,  2.6534e+02,  2.6615e+02,  2.6548e+02,\n",
            "         2.6170e+02,  2.5248e+02,  2.4931e+02,  2.4981e+02,  2.4912e+02,\n",
            "         2.5210e+02,  2.5542e+02,  2.5627e+02,  2.5560e+02, -7.1886e+01,\n",
            "        -7.1996e+01, -7.0117e+01, -6.6168e+01, -5.8732e+01, -4.7112e+01,\n",
            "        -3.3195e+01, -1.7367e+01, -3.4430e-02,  1.7214e+01,  3.2933e+01,\n",
            "         4.7270e+01,  5.8289e+01,  6.5015e+01,  6.8368e+01,  7.0261e+01,\n",
            "         7.1079e+01, -5.6069e+01, -4.7327e+01, -3.5734e+01, -2.3859e+01,\n",
            "        -1.3245e+01,  1.1911e+01,  2.3299e+01,  3.4669e+01,  4.5696e+01,\n",
            "         5.3758e+01, -3.0441e-01, -3.5815e-01, -3.6973e-01, -3.9772e-01,\n",
            "        -1.3723e+01, -7.1700e+00, -4.7297e-01,  6.4239e+00,  1.2665e+01,\n",
            "        -4.2368e+01, -3.4859e+01, -2.6113e+01, -1.8677e+01, -2.6374e+01,\n",
            "        -3.5022e+01,  1.7357e+01,  2.5025e+01,  3.3643e+01,  4.0714e+01,\n",
            "         3.4102e+01,  2.5670e+01, -2.6085e+01, -1.6301e+01, -6.7975e+00,\n",
            "        -5.6147e-01,  6.2844e+00,  1.5963e+01,  2.5238e+01,  1.6244e+01,\n",
            "         6.8994e+00, -5.0786e-01, -7.3484e+00, -1.6739e+01, -2.1922e+01,\n",
            "        -6.9033e+00, -5.5250e-01,  6.4068e+00,  2.1193e+01,  6.4346e+00,\n",
            "        -6.4211e-01, -7.1316e+00, -9.7852e+01, -7.7852e+01, -5.7718e+01,\n",
            "        -3.8006e+01, -1.9772e+01, -4.2339e+00,  7.5433e+00,  1.5753e+01,\n",
            "         1.7901e+01,  1.5694e+01,  7.4078e+00, -4.5145e+00, -1.9956e+01,\n",
            "        -3.8258e+01, -5.7757e+01, -7.7498e+01, -9.7254e+01, -1.1340e+02,\n",
            "        -1.2094e+02, -1.2293e+02, -1.2080e+02, -1.1626e+02, -1.1662e+02,\n",
            "        -1.2123e+02, -1.2287e+02, -1.2087e+02, -1.1401e+02, -1.0007e+02,\n",
            "        -8.8269e+01, -7.6845e+01, -6.5288e+01, -5.6060e+01, -5.3683e+01,\n",
            "        -5.1737e+01, -5.3690e+01, -5.5934e+01, -9.7557e+01, -1.0167e+02,\n",
            "        -1.0149e+02, -9.6574e+01, -9.4605e+01, -9.4552e+01, -9.6687e+01,\n",
            "        -1.0166e+02, -1.0154e+02, -9.7686e+01, -9.4767e+01, -9.4700e+01,\n",
            "        -3.0146e+01, -3.6318e+01, -3.9047e+01, -3.7383e+01, -3.8971e+01,\n",
            "        -3.6106e+01, -3.0730e+01, -2.1863e+01, -1.8419e+01, -1.7716e+01,\n",
            "        -1.8304e+01, -2.1638e+01, -3.0041e+01, -3.2659e+01, -3.2174e+01,\n",
            "        -3.2796e+01, -3.0320e+01, -2.7242e+01, -2.6480e+01, -2.7092e+01,\n",
            "         6.9745e+02,  6.9785e+02,  6.9904e+02,  6.9900e+02,  6.9448e+02,\n",
            "         6.8658e+02,  6.7477e+02,  6.6109e+02,  6.5659e+02,  6.6171e+02,\n",
            "         6.7369e+02,  6.8361e+02,  6.8818e+02,  6.8880e+02,  6.8758e+02,\n",
            "         6.8720e+02,  6.8876e+02,  6.6633e+02,  6.6074e+02,  6.5488e+02,\n",
            "         6.4892e+02,  6.4446e+02,  6.4355e+02,  6.4729e+02,  6.5165e+02,\n",
            "         6.5550e+02,  6.5932e+02,  6.4243e+02,  6.3559e+02,  6.2856e+02,\n",
            "         6.2182e+02,  6.3786e+02,  6.3472e+02,  6.3238e+02,  6.3386e+02,\n",
            "         6.3613e+02,  6.6040e+02,  6.5661e+02,  6.5496e+02,  6.5372e+02,\n",
            "         6.5403e+02,  6.5564e+02,  6.5250e+02,  6.5250e+02,  6.5321e+02,\n",
            "         6.5589e+02,  6.5233e+02,  6.5153e+02,  6.5328e+02,  6.4056e+02,\n",
            "         6.3486e+02,  6.3367e+02,  6.3429e+02,  6.4016e+02,  6.5083e+02,\n",
            "         6.4100e+02,  6.3525e+02,  6.3431e+02,  6.3550e+02,  6.4150e+02,\n",
            "         6.5062e+02,  6.3663e+02,  6.3530e+02,  6.3610e+02,  6.4855e+02,\n",
            "         6.3678e+02,  6.3587e+02,  6.3729e+02,  1.0895e+00,  4.1380e-02,\n",
            "         4.3418e-02, -3.1357e-03,  4.4705e+02,  2.1984e+02, -1.8809e+01,\n",
            "         3.2169e+00, -8.1603e+00,  5.7095e+00, -6.3184e+00, -2.4003e+00,\n",
            "         1.0594e+00,  2.1511e+00, -1.2313e+00,  3.8682e-01, -3.7099e+00,\n",
            "         3.9769e-01,  8.2868e-01, -3.5032e+00,  3.1636e-01, -5.5377e-01,\n",
            "        -1.3724e+00, -4.7479e-01, -2.1446e+00, -1.7949e+00,  4.8147e-01,\n",
            "        -4.4293e-02,  4.3972e-01, -7.6930e-01, -5.6448e-01,  3.9107e-01,\n",
            "         3.4397e-02, -2.0153e-01, -8.6949e-02, -7.4929e-02, -8.3943e-03,\n",
            "        -2.9125e-03, -2.2418e-02,  9.2081e-02,  3.0728e-01,  1.3947e-01,\n",
            "         4.7617e-01,  7.4233e-02,  2.9944e-01,  6.3980e-01,  8.1772e-02,\n",
            "         5.1323e-01,  3.5686e-01,  3.6708e-01,  1.8415e-01,  5.5840e-01,\n",
            "         1.2326e-01,  1.5722e-01,  5.9009e-01,  5.3752e-01,  2.4916e-01,\n",
            "         2.3500e-01,  2.5892e-01,  2.8643e-01,  4.9743e-01,  2.0937e-01,\n",
            "         3.3252e-01,  6.1730e-02,  3.6518e-01,  2.0322e-01,  3.6201e-01,\n",
            "         1.7698e-01,  2.9676e-01,  1.1192e-01,  1.8258e-01,  2.7224e-01,\n",
            "         1.8150e-01,  9.3114e-03,  2.2866e-01]) \n",
            "\n",
            "Video std: tensor([1.0000e+00, 4.5742e+01, 1.6458e-01, 1.7505e-01, 2.2648e-01, 1.3775e-01,\n",
            "        1.7614e-01, 2.2699e-01, 1.3649e-01, 1.7629e-01, 2.4252e-01, 1.4643e-01,\n",
            "        2.3449e+02, 2.3486e+02, 2.3579e+02, 2.3673e+02, 2.3714e+02, 2.3683e+02,\n",
            "        2.3581e+02, 2.3487e+02, 2.3351e+02, 2.3401e+02, 2.3474e+02, 2.3570e+02,\n",
            "        2.3673e+02, 2.3754e+02, 2.3816e+02, 2.3749e+02, 2.3657e+02, 2.3561e+02,\n",
            "        2.3474e+02, 2.3403e+02, 2.3540e+02, 2.3583e+02, 2.3625e+02, 2.3643e+02,\n",
            "        2.3625e+02, 2.3581e+02, 2.3539e+02, 2.3522e+02, 2.4977e+02, 2.5030e+02,\n",
            "        2.5155e+02, 2.5280e+02, 2.5331e+02, 2.5277e+02, 2.5150e+02, 2.5017e+02,\n",
            "        2.4864e+02, 2.4940e+02, 2.5045e+02, 2.5178e+02, 2.5307e+02, 2.5410e+02,\n",
            "        2.5486e+02, 2.5409e+02, 2.5307e+02, 2.5189e+02, 2.5062e+02, 2.4945e+02,\n",
            "        2.5092e+02, 2.5149e+02, 2.5207e+02, 2.5231e+02, 2.5208e+02, 2.5151e+02,\n",
            "        2.5093e+02, 2.5069e+02, 8.0980e+01, 7.9687e+01, 7.9036e+01, 7.9378e+01,\n",
            "        8.0547e+01, 8.1971e+01, 8.2577e+01, 8.2188e+01, 8.1448e+01, 8.0741e+01,\n",
            "        8.0249e+01, 7.9907e+01, 7.9916e+01, 8.0233e+01, 8.0831e+01, 8.1381e+01,\n",
            "        8.1702e+01, 8.1935e+01, 8.1972e+01, 8.1830e+01, 8.1424e+01, 8.1601e+01,\n",
            "        8.1285e+01, 8.0673e+01, 8.0126e+01, 7.9961e+01, 8.0266e+01, 8.0869e+01,\n",
            "        8.0354e+01, 7.9127e+01, 7.8682e+01, 7.9238e+01, 8.0502e+01, 8.1775e+01,\n",
            "        8.2279e+01, 8.1777e+01, 8.0506e+01, 7.9891e+01, 7.9551e+01, 7.9493e+01,\n",
            "        7.9756e+01, 8.0175e+01, 8.0817e+01, 8.1217e+01, 8.1394e+01, 8.1414e+01,\n",
            "        8.1260e+01, 8.1018e+01, 8.1028e+01, 8.1300e+01, 8.1073e+01, 8.0486e+01,\n",
            "        7.9894e+01, 7.9633e+01, 7.9847e+01, 8.0423e+01, 4.6810e+03, 4.6810e+03,\n",
            "        4.6810e+03, 4.6810e+03, 4.6810e+03, 4.6810e+03, 4.6810e+03, 4.6810e+03,\n",
            "        4.6811e+03, 4.6811e+03, 4.6810e+03, 4.6810e+03, 4.6810e+03, 4.6810e+03,\n",
            "        4.6811e+03, 4.6810e+03, 4.6810e+03, 4.6810e+03, 4.6810e+03, 4.6811e+03,\n",
            "        4.6810e+03, 4.6810e+03, 4.6810e+03, 4.6810e+03, 4.6810e+03, 4.6810e+03,\n",
            "        4.6810e+03, 4.6810e+03, 3.2937e+02, 3.2952e+02, 3.2971e+02, 3.2983e+02,\n",
            "        3.2980e+02, 3.2965e+02, 3.2947e+02, 3.2936e+02, 3.2939e+02, 3.2934e+02,\n",
            "        3.2934e+02, 3.2946e+02, 3.2972e+02, 3.3006e+02, 3.3038e+02, 3.3002e+02,\n",
            "        3.2968e+02, 3.2942e+02, 3.2930e+02, 3.2931e+02, 3.2956e+02, 3.2961e+02,\n",
            "        3.2969e+02, 3.2976e+02, 3.2977e+02, 3.2972e+02, 3.2963e+02, 3.2957e+02,\n",
            "        2.7767e+03, 2.7767e+03, 2.7767e+03, 2.7767e+03, 2.7767e+03, 2.7767e+03,\n",
            "        2.7767e+03, 2.7767e+03, 2.7767e+03, 2.7767e+03, 2.7767e+03, 2.7767e+03,\n",
            "        2.7767e+03, 2.7767e+03, 2.7767e+03, 2.7767e+03, 2.7767e+03, 2.7767e+03,\n",
            "        2.7767e+03, 2.7767e+03, 2.7767e+03, 2.7767e+03, 2.7767e+03, 2.7767e+03,\n",
            "        2.7767e+03, 2.7767e+03, 2.7767e+03, 2.7767e+03, 1.4305e+02, 1.4303e+02,\n",
            "        1.4304e+02, 1.4308e+02, 1.4313e+02, 1.4315e+02, 1.4313e+02, 1.4311e+02,\n",
            "        1.4304e+02, 1.4298e+02, 1.4294e+02, 1.4296e+02, 1.4304e+02, 1.4317e+02,\n",
            "        1.4331e+02, 1.4319e+02, 1.4307e+02, 1.4300e+02, 1.4298e+02, 1.4301e+02,\n",
            "        1.4313e+02, 1.4315e+02, 1.4316e+02, 1.4314e+02, 1.4312e+02, 1.4309e+02,\n",
            "        1.4309e+02, 1.4311e+02, 3.9245e+04, 3.9245e+04, 3.9245e+04, 3.9245e+04,\n",
            "        3.9245e+04, 3.9245e+04, 3.9245e+04, 3.9245e+04, 3.9245e+04, 3.9245e+04,\n",
            "        3.9245e+04, 3.9245e+04, 3.9245e+04, 3.9245e+04, 3.9245e+04, 3.9245e+04,\n",
            "        3.9245e+04, 3.9245e+04, 3.9245e+04, 3.9245e+04, 3.9245e+04, 3.9245e+04,\n",
            "        3.9245e+04, 3.9245e+04, 3.9245e+04, 3.9245e+04, 3.9245e+04, 3.9245e+04,\n",
            "        3.1680e+03, 3.1680e+03, 3.1680e+03, 3.1680e+03, 3.1680e+03, 3.1680e+03,\n",
            "        3.1680e+03, 3.1680e+03, 3.1680e+03, 3.1680e+03, 3.1680e+03, 3.1680e+03,\n",
            "        3.1680e+03, 3.1680e+03, 3.1680e+03, 3.1680e+03, 3.1680e+03, 3.1680e+03,\n",
            "        3.1680e+03, 3.1680e+03, 3.1680e+03, 3.1680e+03, 3.1680e+03, 3.1680e+03,\n",
            "        3.1680e+03, 3.1680e+03, 3.1680e+03, 3.1680e+03, 3.1910e+06, 1.8198e+06,\n",
            "        4.3861e+06, 2.3527e-01, 2.9754e-01, 1.8454e-01, 2.2917e+02, 2.2881e+02,\n",
            "        2.2895e+02, 2.2955e+02, 2.3058e+02, 2.3249e+02, 2.3506e+02, 2.3861e+02,\n",
            "        2.4324e+02, 2.4828e+02, 2.5302e+02, 2.5734e+02, 2.6084e+02, 2.6310e+02,\n",
            "        2.6424e+02, 2.6488e+02, 2.6522e+02, 2.3115e+02, 2.3278e+02, 2.3491e+02,\n",
            "        2.3727e+02, 2.3956e+02, 2.4726e+02, 2.5046e+02, 2.5356e+02, 2.5661e+02,\n",
            "        2.5909e+02, 2.4319e+02, 2.4304e+02, 2.4293e+02, 2.4281e+02, 2.3936e+02,\n",
            "        2.4105e+02, 2.4287e+02, 2.4486e+02, 2.4670e+02, 2.3343e+02, 2.3496e+02,\n",
            "        2.3685e+02, 2.3855e+02, 2.3673e+02, 2.3489e+02, 2.4850e+02, 2.5064e+02,\n",
            "        2.5312e+02, 2.5521e+02, 2.5321e+02, 2.5080e+02, 2.3653e+02, 2.3865e+02,\n",
            "        2.4108e+02, 2.4280e+02, 2.4477e+02, 2.4770e+02, 2.5053e+02, 2.4781e+02,\n",
            "        2.4495e+02, 2.4283e+02, 2.4094e+02, 2.3857e+02, 2.3751e+02, 2.4104e+02,\n",
            "        2.4281e+02, 2.4479e+02, 2.4938e+02, 2.4478e+02, 2.4277e+02, 2.4098e+02,\n",
            "        8.3479e+01, 8.9521e+01, 9.6290e+01, 1.0346e+02, 1.1047e+02, 1.1687e+02,\n",
            "        1.2214e+02, 1.2624e+02, 1.2737e+02, 1.2613e+02, 1.2208e+02, 1.1678e+02,\n",
            "        1.1045e+02, 1.0321e+02, 9.5696e+01, 8.8567e+01, 8.2334e+01, 7.7319e+01,\n",
            "        7.5362e+01, 7.4621e+01, 7.4761e+01, 7.5397e+01, 7.5154e+01, 7.4310e+01,\n",
            "        7.4118e+01, 7.4647e+01, 7.6249e+01, 7.9606e+01, 8.3317e+01, 8.7378e+01,\n",
            "        9.1893e+01, 9.5266e+01, 9.6251e+01, 9.7058e+01, 9.6136e+01, 9.5121e+01,\n",
            "        8.1565e+01, 8.0281e+01, 8.0075e+01, 8.1042e+01, 8.1832e+01, 8.2077e+01,\n",
            "        8.0728e+01, 7.9648e+01, 7.9795e+01, 8.0846e+01, 8.1464e+01, 8.1370e+01,\n",
            "        1.0617e+02, 1.0364e+02, 1.0258e+02, 1.0323e+02, 1.0251e+02, 1.0350e+02,\n",
            "        1.0556e+02, 1.0965e+02, 1.1139e+02, 1.1179e+02, 1.1152e+02, 1.0993e+02,\n",
            "        1.0623e+02, 1.0527e+02, 1.0544e+02, 1.0510e+02, 1.0582e+02, 1.0741e+02,\n",
            "        1.0780e+02, 1.0754e+02, 2.2236e+02, 2.2223e+02, 2.2236e+02, 2.2239e+02,\n",
            "        2.2172e+02, 2.2055e+02, 2.1876e+02, 2.1680e+02, 2.1659e+02, 2.1808e+02,\n",
            "        2.2081e+02, 2.2318e+02, 2.2461e+02, 2.2520e+02, 2.2528e+02, 2.2542e+02,\n",
            "        2.2587e+02, 2.1657e+02, 2.1571e+02, 2.1497e+02, 2.1423e+02, 2.1373e+02,\n",
            "        2.1452e+02, 2.1560e+02, 2.1685e+02, 2.1806e+02, 2.1921e+02, 2.1382e+02,\n",
            "        2.1266e+02, 2.1147e+02, 2.1035e+02, 2.1265e+02, 2.1232e+02, 2.1215e+02,\n",
            "        2.1265e+02, 2.1326e+02, 2.1580e+02, 2.1532e+02, 2.1531e+02, 2.1536e+02,\n",
            "        2.1514e+02, 2.1515e+02, 2.1638e+02, 2.1666e+02, 2.1714e+02, 2.1791e+02,\n",
            "        2.1700e+02, 2.1652e+02, 2.1520e+02, 2.1320e+02, 2.1246e+02, 2.1247e+02,\n",
            "        2.1281e+02, 2.1421e+02, 2.1648e+02, 2.1443e+02, 2.1305e+02, 2.1265e+02,\n",
            "        2.1263e+02, 2.1342e+02, 2.1490e+02, 2.1276e+02, 2.1275e+02, 2.1312e+02,\n",
            "        2.1595e+02, 2.1323e+02, 2.1284e+02, 2.1288e+02, 1.2210e+02, 1.2275e+02,\n",
            "        1.2349e+02, 1.2419e+02, 1.2447e+02, 1.2428e+02, 1.2353e+02, 1.2241e+02,\n",
            "        1.2196e+02, 1.2232e+02, 1.2315e+02, 1.2359e+02, 1.2342e+02, 1.2280e+02,\n",
            "        1.2197e+02, 1.2121e+02, 1.2065e+02, 1.1921e+02, 1.1861e+02, 1.1811e+02,\n",
            "        1.1768e+02, 1.1734e+02, 1.1718e+02, 1.1732e+02, 1.1755e+02, 1.1783e+02,\n",
            "        1.1817e+02, 1.1749e+02, 1.1730e+02, 1.1708e+02, 1.1686e+02, 1.1810e+02,\n",
            "        1.1791e+02, 1.1776e+02, 1.1778e+02, 1.1785e+02, 1.1912e+02, 1.1876e+02,\n",
            "        1.1855e+02, 1.1839e+02, 1.1854e+02, 1.1876e+02, 1.1810e+02, 1.1812e+02,\n",
            "        1.1818e+02, 1.1834e+02, 1.1816e+02, 1.1810e+02, 1.2026e+02, 1.1898e+02,\n",
            "        1.1839e+02, 1.1830e+02, 1.1828e+02, 1.1876e+02, 1.1974e+02, 1.1922e+02,\n",
            "        1.1888e+02, 1.1886e+02, 1.1899e+02, 1.1946e+02, 1.2003e+02, 1.1868e+02,\n",
            "        1.1855e+02, 1.1857e+02, 1.1958e+02, 1.1872e+02, 1.1870e+02, 1.1883e+02,\n",
            "        4.5347e+02, 4.5331e+02, 4.5311e+02, 4.5299e+02, 4.5318e+02, 4.5342e+02,\n",
            "        4.5365e+02, 4.5378e+02, 4.5393e+02, 4.5400e+02, 4.5407e+02, 4.5408e+02,\n",
            "        4.5426e+02, 4.5450e+02, 4.5472e+02, 4.5482e+02, 4.5481e+02, 4.5340e+02,\n",
            "        4.5335e+02, 4.5345e+02, 4.5352e+02, 4.5364e+02, 4.5389e+02, 4.5389e+02,\n",
            "        4.5407e+02, 4.5437e+02, 4.5465e+02, 4.5380e+02, 4.5389e+02, 4.5399e+02,\n",
            "        4.5411e+02, 4.5380e+02, 4.5387e+02, 4.5395e+02, 4.5400e+02, 4.5402e+02,\n",
            "        4.5341e+02, 4.5344e+02, 4.5348e+02, 4.5358e+02, 4.5348e+02, 4.5344e+02,\n",
            "        4.5395e+02, 4.5399e+02, 4.5412e+02, 4.5422e+02, 4.5414e+02, 4.5403e+02,\n",
            "        4.5371e+02, 4.5388e+02, 4.5396e+02, 4.5404e+02, 4.5411e+02, 4.5415e+02,\n",
            "        4.5413e+02, 4.5414e+02, 4.5408e+02, 4.5407e+02, 4.5402e+02, 4.5391e+02,\n",
            "        4.5379e+02, 4.5395e+02, 4.5401e+02, 4.5409e+02, 4.5413e+02, 4.5405e+02,\n",
            "        4.5399e+02, 4.5394e+02, 5.4231e-01, 1.9112e-01, 2.3744e-01, 1.6087e-01,\n",
            "        2.4325e+02, 9.3702e+01, 1.9862e+01, 1.7116e+01, 9.6002e+00, 1.3005e+01,\n",
            "        9.1706e+00, 8.2138e+00, 7.8160e+00, 7.3517e+00, 7.0737e+00, 5.8543e+00,\n",
            "        5.6557e+00, 3.6732e+00, 3.4367e+00, 3.4314e+00, 3.4688e+00, 3.0298e+00,\n",
            "        2.9997e+00, 2.8139e+00, 2.7437e+00, 2.2286e+00, 1.9444e+00, 1.8458e+00,\n",
            "        1.7822e+00, 1.6451e+00, 1.4076e+00, 1.0462e+00, 7.9869e-01, 4.7027e-01,\n",
            "        2.7516e-01, 3.1820e-01, 2.3856e-01, 2.3916e-01, 1.6296e-01, 1.9472e-01,\n",
            "        5.4489e-01, 3.4167e-01, 6.4274e-01, 2.0140e-01, 4.6478e-01, 7.5394e-01,\n",
            "        1.8383e-01, 6.1933e-01, 5.1408e-01, 5.2879e-01, 3.4846e-01, 5.3403e-01,\n",
            "        2.4035e-01, 3.1693e-01, 5.5030e-01, 5.3172e-01, 4.2386e-01, 3.9273e-01,\n",
            "        4.0457e-01, 4.2970e-01, 4.6596e-01, 3.7995e-01, 4.4313e-01, 2.1775e-01,\n",
            "        4.4366e-01, 3.7400e-01, 4.4226e-01, 3.3405e-01, 3.9167e-01, 2.7114e-01,\n",
            "        3.5070e-01, 3.6047e-01, 3.1482e-01, 8.6444e-02, 3.6269e-01]) \n",
            "\n",
            "Audio mean: tensor([ 1.7323e+02,  6.7178e-01,  7.4609e-02,  2.8545e-01,  5.6938e-01,\n",
            "         3.3358e-01,  1.1886e-01, -3.1350e-01,  1.5326e+00,  5.0598e-01,\n",
            "         2.7302e-01, -7.4503e+00,  2.1175e+00, -4.5268e-02,  3.2577e-01,\n",
            "        -1.6768e-01, -1.0963e-01, -1.1227e-01, -3.3717e-02, -1.3476e-03,\n",
            "         4.1813e-02, -3.4720e-02,  3.1181e-02, -5.1555e-02,  4.0176e-02,\n",
            "        -4.3049e-02,  1.2073e-02, -1.7006e-02,  3.0337e-02, -2.4277e-02,\n",
            "         2.2335e-02, -9.7226e-03,  1.5033e-02, -1.4828e-02,  1.5835e-02,\n",
            "        -1.3404e-02, -1.2921e-04,  3.6037e-04,  4.2836e-04,  7.8571e-04,\n",
            "         5.1980e-04,  6.0838e-04,  1.3466e-03,  2.6785e-03,  8.7485e-03,\n",
            "         2.7719e-02,  8.4391e-02,  1.9479e-01,  3.4923e-01,  4.6635e-01,\n",
            "         5.1773e-01,  5.3307e-01,  5.6334e-01,  5.8892e-01,  6.0585e-01,\n",
            "         6.2406e-01,  6.1672e-01,  6.2502e-01,  6.1352e-01,  4.5734e-01,\n",
            "         3.7870e-01, -3.8707e-01, -1.2675e+00, -1.0304e+00, -9.7422e-01,\n",
            "        -8.2873e-01, -6.9666e-01, -5.9691e-01, -4.7315e-01, -3.8109e-01,\n",
            "        -2.8874e-01, -2.0663e-01, -1.4446e-01, -8.3217e-02]) \n",
            "\n",
            "Audio std: tensor([5.7649e+01, 3.1203e-01, 4.2752e-02, 1.5808e-01, 4.6557e+00, 1.7324e-01,\n",
            "        1.9759e-02, 8.9023e-02, 2.6334e-01, 7.4933e-02, 1.2538e-01, 1.1682e+00,\n",
            "        7.5997e-01, 5.5894e-01, 4.0593e-01, 2.9440e-01, 2.6754e-01, 2.2260e-01,\n",
            "        1.9407e-01, 1.6678e-01, 1.4285e-01, 1.2652e-01, 1.2200e-01, 1.1475e-01,\n",
            "        1.0206e-01, 9.6711e-02, 9.0447e-02, 8.2917e-02, 7.6071e-02, 7.4187e-02,\n",
            "        6.7952e-02, 6.2973e-02, 6.1021e-02, 5.7577e-02, 5.4391e-02, 5.0007e-02,\n",
            "        4.8514e-02, 6.1278e-02, 5.9698e-02, 6.0904e-02, 6.2007e-02, 6.1920e-02,\n",
            "        6.5750e-02, 8.1040e-02, 1.5489e-01, 3.9837e-01, 7.6440e-01, 1.0495e+00,\n",
            "        1.2506e+00, 1.3388e+00, 1.3800e+00, 1.4079e+00, 1.4024e+00, 1.3843e+00,\n",
            "        1.3642e+00, 1.3552e+00, 1.3576e+00, 1.3527e+00, 1.3452e+00, 1.3737e+00,\n",
            "        1.3853e+00, 2.5432e-01, 3.4422e-01, 2.7778e-01, 2.1628e-01, 1.5153e-01,\n",
            "        1.1659e-01, 1.0925e-01, 1.3488e-01, 1.5907e-01, 1.8183e-01, 1.8671e-01,\n",
            "        1.8859e-01, 1.7933e-01]) \n",
            "\n",
            "Text mean: tensor([-2.7277e-02,  1.4076e-01, -1.7856e-01, -4.5181e-02,  9.1255e-02,\n",
            "        -1.3859e-02, -1.3479e-02, -9.8297e-02,  1.8515e-02,  2.2463e+00,\n",
            "        -1.8693e-01,  7.1676e-03,  7.5048e-02, -5.3728e-02, -9.3505e-02,\n",
            "        -7.9782e-02, -7.4434e-02,  1.0107e+00, -2.1226e-01, -3.1709e-02,\n",
            "         2.1994e-02, -4.6905e-02, -4.0183e-02, -3.3894e-02, -1.3456e-02,\n",
            "         3.0154e-02, -5.3274e-02, -7.5907e-02,  3.1476e-02, -8.0673e-02,\n",
            "        -4.3860e-02,  1.1132e-01, -2.1327e-02,  4.7636e-02,  4.0878e-02,\n",
            "        -5.9605e-02,  6.6571e-03,  2.8294e-02, -7.2110e-02, -6.8768e-02,\n",
            "        -1.6225e-02,  9.6370e-02, -2.2624e-02, -7.4763e-02,  6.1348e-02,\n",
            "         6.6704e-02, -1.1853e-01, -4.3948e-02, -1.4062e-03,  1.6929e-02,\n",
            "        -6.5129e-02,  3.1107e-02, -6.3492e-03, -2.2479e-02,  9.0164e-02,\n",
            "         5.3534e-03, -2.8999e-02, -9.8716e-02,  2.5792e-03, -6.7914e-02,\n",
            "        -2.3134e-02, -7.0929e-02, -9.7360e-02,  1.6683e-01,  8.3494e-02,\n",
            "        -9.5869e-02, -3.3630e-02,  9.0674e-02,  6.9141e-02,  7.2721e-02,\n",
            "         8.6920e-02,  5.4973e-02,  1.9810e-01, -4.4801e-02,  9.2552e-02,\n",
            "         2.9755e-02,  9.0440e-02, -6.7314e-02, -4.2648e-02,  1.9838e-01,\n",
            "         2.6199e-02,  7.3067e-02, -1.4724e-01, -1.8070e-02,  6.3422e-02,\n",
            "        -1.6445e-01, -5.9833e-02, -1.4209e-01,  2.3354e-01,  1.0120e-02,\n",
            "        -1.4811e-01,  2.8204e-03, -8.2391e-02,  6.3155e-02,  9.9578e-02,\n",
            "         3.7182e-02,  8.4580e-03, -6.7229e-02, -2.2934e-03, -6.8140e-03,\n",
            "        -2.6021e-02,  1.3427e-02, -5.8804e-02, -5.3342e-02,  1.2957e-01,\n",
            "        -8.6773e-01,  9.6034e-02, -2.4992e-03, -2.8015e-02, -2.5807e-02,\n",
            "         3.4399e-02, -1.5694e-01,  8.1329e-02, -6.1499e-02,  5.1179e-02,\n",
            "        -2.3407e-02,  5.0036e-03,  6.0299e-02, -3.3222e-02,  1.0674e-02,\n",
            "         7.0035e-02, -7.8510e-02, -1.3352e-02, -1.8878e-02,  6.6021e-02,\n",
            "         7.0258e-02, -3.6764e-02, -1.4313e-01,  1.4891e-02, -4.4284e-03,\n",
            "        -1.7143e-02, -1.4558e-02, -7.9719e-02,  5.1058e-02,  1.0195e-01,\n",
            "         5.3924e-03, -2.9111e-02, -1.6416e-02, -6.8813e-03, -4.1634e-02,\n",
            "        -1.2959e+00,  4.9159e-02,  9.4269e-02,  8.6434e-03,  4.7578e-03,\n",
            "        -1.0260e-01, -6.6472e-02,  3.8071e-02,  1.7341e-02, -4.5816e-02,\n",
            "        -2.4536e-02,  2.0037e-02,  5.9020e-02, -2.7001e-02, -5.9008e-02,\n",
            "        -2.4417e-02, -4.5932e-02, -4.3730e-02, -6.2413e-02, -1.0587e-01,\n",
            "        -2.9245e-02,  3.6472e-02, -5.8176e-02, -1.7318e-02, -4.9010e-02,\n",
            "        -1.4402e-01,  8.5509e-02, -3.0621e-02,  1.3801e-01, -1.6895e-02,\n",
            "        -2.9416e-02, -2.8247e-02,  1.2295e-01, -8.7804e-02, -5.9783e-02,\n",
            "         5.5347e-02, -5.8057e-02,  2.3747e-02,  1.6856e-02, -7.0119e-03,\n",
            "         3.7290e-02, -3.9671e-02, -1.0742e-01, -6.6743e-02, -4.0791e-02,\n",
            "         5.2719e-03, -7.2085e-02, -6.5211e-02,  4.1840e-02,  5.1262e-02,\n",
            "         1.2214e-03, -2.0030e-02, -1.3452e-01,  1.9459e-02,  3.9977e-02,\n",
            "         1.2063e-01, -2.3704e-02, -6.6921e-02,  1.4035e-02,  1.4682e-01,\n",
            "        -1.6773e-02, -8.1561e-02, -8.7074e-02, -2.3373e-02,  1.5112e-01,\n",
            "         7.8254e-02,  5.3375e-02,  1.6259e-02,  6.0626e-02,  3.5956e-02,\n",
            "        -8.3810e-02, -4.2310e-02, -4.6122e-02, -1.6022e-01,  2.6829e-02,\n",
            "         1.4369e-01, -4.8175e-02, -2.7616e-03, -1.5672e-01, -1.6639e-02,\n",
            "         2.5582e-02, -1.9751e-02, -5.9867e-02,  7.7729e-03, -6.2505e-03,\n",
            "        -2.3907e-02, -2.1408e-02,  1.2028e-01, -8.6383e-03, -1.2969e-02,\n",
            "        -1.3552e-01,  3.6385e-02,  6.8279e-02,  1.0123e-01, -4.5764e-02,\n",
            "        -7.2249e-02,  2.0102e-02, -1.0071e-01, -1.0645e-01,  1.1498e-01,\n",
            "         7.0320e-02,  3.2529e-02,  2.6989e-02,  1.0831e-01,  1.3137e-01,\n",
            "        -1.6569e-01, -7.7457e-02, -9.0870e-02, -1.2457e-01,  1.1481e-01,\n",
            "         3.7219e-02, -8.3122e-02, -3.8637e-02, -2.1561e-02,  1.7692e-02,\n",
            "         1.8969e-01,  9.3206e-02, -4.7446e-02, -3.8265e-02,  4.5288e-02,\n",
            "         1.3448e-01,  1.4153e-01,  5.3679e-03,  7.5004e-02,  1.2055e-01,\n",
            "        -5.6661e-02, -2.0792e-02,  8.1073e-02,  3.5421e-01,  4.8444e-02,\n",
            "         6.7217e-02, -5.5156e-02, -1.0291e-01, -1.3353e-01, -6.3185e-02,\n",
            "         1.5480e-02,  9.9560e-03,  5.9181e-02,  5.2995e-02,  1.8023e-01,\n",
            "         1.1554e-01,  5.2103e-02, -3.2523e-02, -2.8610e-02, -2.6668e-02,\n",
            "        -8.1234e-02,  1.4016e-01, -6.8671e-02,  8.9981e-02, -5.9044e-02,\n",
            "        -2.0688e-01,  3.9524e-02,  1.2770e-03, -7.3949e-02,  6.3366e-02,\n",
            "        -2.6368e-02, -6.5686e-02, -6.3952e-02,  6.1373e-02,  1.0639e-01]) \n",
            "\n",
            "Text std: tensor([0.2559, 0.2523, 0.2555, 0.2639, 0.2545, 0.2342, 0.2264, 0.3022, 0.2108,\n",
            "        0.8692, 0.3030, 0.2276, 0.2566, 0.2194, 0.2494, 0.2160, 0.2190, 0.6523,\n",
            "        0.2470, 0.2249, 0.2472, 0.2434, 0.2571, 0.2354, 0.2335, 0.2235, 0.2450,\n",
            "        0.2437, 0.2749, 0.2732, 0.2263, 0.2643, 0.2555, 0.2395, 0.2692, 0.2487,\n",
            "        0.2451, 0.2378, 0.2437, 0.2811, 0.2354, 0.2568, 0.2345, 0.2519, 0.2207,\n",
            "        0.2332, 0.2293, 0.2897, 0.2420, 0.2168, 0.2656, 0.2466, 0.2235, 0.2174,\n",
            "        0.2680, 0.2070, 0.2155, 0.2563, 0.2503, 0.2109, 0.2339, 0.2690, 0.2473,\n",
            "        0.2686, 0.2497, 0.2666, 0.2086, 0.2305, 0.2456, 0.2521, 0.2391, 0.2596,\n",
            "        0.2727, 0.2135, 0.2773, 0.2398, 0.2330, 0.2481, 0.2671, 0.2725, 0.2134,\n",
            "        0.2409, 0.2547, 0.2217, 0.2305, 0.2816, 0.5356, 0.4392, 0.2882, 0.2435,\n",
            "        0.2506, 0.2387, 0.2471, 0.2706, 0.2672, 0.2808, 0.2439, 0.2212, 0.2450,\n",
            "        0.2619, 0.2362, 0.2453, 0.2265, 0.2016, 0.2506, 0.4984, 0.2490, 0.2474,\n",
            "        0.2673, 0.2614, 0.2124, 0.2853, 0.2463, 0.2333, 0.2282, 0.2469, 0.2441,\n",
            "        0.2929, 0.2604, 0.2267, 0.2323, 0.2470, 0.2510, 0.2540, 0.2701, 0.2274,\n",
            "        0.2304, 0.2864, 0.2230, 0.2124, 0.2462, 0.2492, 0.2477, 0.2552, 0.2544,\n",
            "        0.2272, 0.2242, 0.2660, 0.2212, 0.2357, 0.8230, 0.2612, 0.2716, 0.2402,\n",
            "        0.2282, 0.2382, 0.2696, 0.2334, 0.2903, 0.2499, 0.2358, 0.2330, 0.2290,\n",
            "        0.2174, 0.2335, 0.2518, 0.2647, 0.2623, 0.2167, 0.2658, 0.2670, 0.2381,\n",
            "        0.2239, 0.2483, 0.3111, 0.2389, 0.2312, 0.2332, 0.2298, 0.2033, 0.2355,\n",
            "        0.2163, 0.2751, 0.2684, 0.2498, 0.2199, 0.2234, 0.2391, 0.2565, 0.2783,\n",
            "        0.2054, 0.2433, 0.2598, 0.2314, 0.2369, 0.2349, 0.2097, 0.2586, 0.2351,\n",
            "        0.2475, 0.2743, 0.2013, 0.2576, 0.2636, 0.2375, 0.2784, 0.2576, 0.2644,\n",
            "        0.2750, 0.2690, 0.2481, 0.2402, 0.2264, 0.2385, 0.2762, 0.2106, 0.2088,\n",
            "        0.2127, 0.2486, 0.2385, 0.2432, 0.2919, 0.2451, 0.2683, 0.2603, 0.2832,\n",
            "        0.2678, 0.2560, 0.3023, 0.2388, 0.2300, 0.2204, 0.2174, 0.2525, 0.2307,\n",
            "        0.2481, 0.2285, 0.2178, 0.2366, 0.2625, 0.2219, 0.2132, 0.2562, 0.2300,\n",
            "        0.2724, 0.2144, 0.2433, 0.2412, 0.2272, 0.2264, 0.2526, 0.2145, 0.2578,\n",
            "        0.2511, 0.2379, 0.2604, 0.2964, 0.2625, 0.2452, 0.3149, 0.2191, 0.2449,\n",
            "        0.2657, 0.2050, 0.2317, 0.3384, 0.2386, 0.2497, 0.2435, 0.2346, 0.2847,\n",
            "        0.2313, 0.2569, 0.2502, 0.2460, 0.3365, 0.2186, 0.2468, 0.3951, 0.3071,\n",
            "        0.3912, 0.2173, 0.2281, 0.2886, 0.2220, 0.2237, 0.2234, 0.2736, 0.2584,\n",
            "        0.2671, 0.2716, 0.2446, 0.2576, 0.2372, 0.2125, 0.2353, 0.2481, 0.2217,\n",
            "        0.2274, 0.2697, 0.2956, 0.2133, 0.2536, 0.2387, 0.2592, 0.2486, 0.2432,\n",
            "        0.2409, 0.2533, 0.2495])\n"
          ]
        }
      ]
    },
    {
      "cell_type": "code",
      "source": [
        "# Standardization function\n",
        "def z_score_standardize(data_loader, video_mean, video_std, audio_mean, audio_std, text_mean, text_std):\n",
        "    standardized_data = []\n",
        "    for video, audio, text, label in data_loader:\n",
        "        # Standardize each modality\n",
        "        video = (video - video_mean) / video_std\n",
        "        audio = (audio - audio_mean) / audio_std\n",
        "        text = (text - text_mean) / text_std\n",
        "\n",
        "        # Append standardized data\n",
        "        standardized_data.append([video, audio, text, label])\n",
        "    return standardized_data\n",
        "\n",
        "# Standardize each dataset\n",
        "s_traindata = z_score_standardize(traindata, video_mean, video_std, audio_mean, audio_std, text_mean, text_std)\n",
        "s_validdata = z_score_standardize(validdata, video_mean, video_std, audio_mean, audio_std, text_mean, text_std)\n",
        "s_testdata = z_score_standardize(testdata, video_mean, video_std, audio_mean, audio_std, text_mean, text_std)"
      ],
      "metadata": {
        "id": "P7Obnse8OlKP"
      },
      "execution_count": 90,
      "outputs": []
    },
    {
      "cell_type": "code",
      "source": [
        "import pickle"
      ],
      "metadata": {
        "id": "NCtHmEHAiwg2"
      },
      "execution_count": 92,
      "outputs": []
    },
    {
      "cell_type": "code",
      "source": [
        "save_dir = '/content/drive/MyDrive/data'\n",
        "\n",
        "train_file = os.path.join(save_dir, 's_traindata.pkl')\n",
        "valid_file = os.path.join(save_dir, 's_validdata.pkl')\n",
        "test_file = os.path.join(save_dir, 's_testdata.pkl')"
      ],
      "metadata": {
        "id": "y11qawY7kHdv"
      },
      "execution_count": 97,
      "outputs": []
    },
    {
      "cell_type": "code",
      "source": [
        "# Save the datasets\n",
        "def save_dataset(dataset, file_path):\n",
        "    with open(file_path, 'wb') as f:\n",
        "        pickle.dump(dataset, f)\n",
        "\n",
        "save_dataset(s_traindata, train_file)\n",
        "save_dataset(s_validdata, valid_file)\n",
        "save_dataset(s_testdata, test_file)"
      ],
      "metadata": {
        "id": "cFg1gD5jir9v"
      },
      "execution_count": 93,
      "outputs": []
    },
    {
      "cell_type": "code",
      "source": [
        "# Load the datasets\n",
        "def load_dataset(file_path):\n",
        "    with open(file_path, 'rb') as f:\n",
        "        return pickle.load(f)\n",
        "\n",
        "traindata = load_dataset(train_file)\n",
        "validdata = load_dataset(valid_file)\n",
        "testdata = load_dataset(test_file)"
      ],
      "metadata": {
        "id": "WIp25I_qjwUo"
      },
      "execution_count": 98,
      "outputs": []
    }
  ]
}
